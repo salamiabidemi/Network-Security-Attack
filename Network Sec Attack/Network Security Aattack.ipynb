{
 "cells": [
  {
   "cell_type": "code",
   "execution_count": 1,
   "id": "bfa30647",
   "metadata": {},
   "outputs": [],
   "source": [
    "import numpy as np\n",
    "import pandas as pd\n",
    "import seaborn as sns\n",
    "import keras\n",
    "import matplotlib.pyplot as plt\n",
    "from sklearn.preprocessing import LabelEncoder\n",
    "from sklearn.preprocessing import RobustScaler\n",
    "from sklearn.model_selection import train_test_split,GridSearchCV\n",
    "from sklearn.svm import SVC,LinearSVC\n",
    "from sklearn.neighbors import KNeighborsClassifier\n",
    "from sklearn.ensemble import RandomForestClassifier\n",
    "from sklearn.tree import DecisionTreeClassifier\n",
    "from sklearn import tree\n",
    "from sklearn.model_selection import RandomizedSearchCV\n",
    "from sklearn.model_selection import GridSearchCV\n",
    "from sklearn.metrics import classification_report,confusion_matrix,accuracy_score,f1_score, precision_score,recall_score,plot_roc_curve\n",
    "from sklearn.naive_bayes import GaussianNB\n",
    "from sklearn import metrics\n",
    "from mlxtend.plotting import plot_confusion_matrix\n",
    "from keras.models import Sequential\n",
    "from keras.layers import Dropout\n",
    "from keras.layers import Dense\n",
    "from keras.layers import LeakyReLU\n",
    "from tensorflow.keras.callbacks import EarlyStopping\n",
    "from tensorflow.keras.layers import BatchNormalization\n",
    "\n",
    "\n",
    "\n",
    "le = LabelEncoder()\n",
    "rScaler = RobustScaler()"
   ]
  },
  {
   "cell_type": "code",
   "execution_count": 2,
   "id": "edfd618f",
   "metadata": {},
   "outputs": [],
   "source": [
    "dfTrain=pd.read_csv(\"NSL_KDD_Train.csv\",sep=\",\",encoding=\"utf-8\")"
   ]
  },
  {
   "cell_type": "code",
   "execution_count": 3,
   "id": "2b68b375",
   "metadata": {},
   "outputs": [
    {
     "data": {
      "text/html": [
       "<div>\n",
       "<style scoped>\n",
       "    .dataframe tbody tr th:only-of-type {\n",
       "        vertical-align: middle;\n",
       "    }\n",
       "\n",
       "    .dataframe tbody tr th {\n",
       "        vertical-align: top;\n",
       "    }\n",
       "\n",
       "    .dataframe thead th {\n",
       "        text-align: right;\n",
       "    }\n",
       "</style>\n",
       "<table border=\"1\" class=\"dataframe\">\n",
       "  <thead>\n",
       "    <tr style=\"text-align: right;\">\n",
       "      <th></th>\n",
       "      <th>0</th>\n",
       "      <th>tcp</th>\n",
       "      <th>ftp_data</th>\n",
       "      <th>SF</th>\n",
       "      <th>491</th>\n",
       "      <th>0.1</th>\n",
       "      <th>0.2</th>\n",
       "      <th>0.3</th>\n",
       "      <th>0.4</th>\n",
       "      <th>0.5</th>\n",
       "      <th>...</th>\n",
       "      <th>25</th>\n",
       "      <th>0.17</th>\n",
       "      <th>0.03</th>\n",
       "      <th>0.17.1</th>\n",
       "      <th>0.25</th>\n",
       "      <th>0.26</th>\n",
       "      <th>0.27</th>\n",
       "      <th>0.05</th>\n",
       "      <th>0.28</th>\n",
       "      <th>normal</th>\n",
       "    </tr>\n",
       "  </thead>\n",
       "  <tbody>\n",
       "    <tr>\n",
       "      <th>0</th>\n",
       "      <td>0</td>\n",
       "      <td>udp</td>\n",
       "      <td>other</td>\n",
       "      <td>SF</td>\n",
       "      <td>146</td>\n",
       "      <td>0</td>\n",
       "      <td>0</td>\n",
       "      <td>0</td>\n",
       "      <td>0</td>\n",
       "      <td>0</td>\n",
       "      <td>...</td>\n",
       "      <td>1</td>\n",
       "      <td>0.00</td>\n",
       "      <td>0.60</td>\n",
       "      <td>0.88</td>\n",
       "      <td>0.00</td>\n",
       "      <td>0.00</td>\n",
       "      <td>0.00</td>\n",
       "      <td>0.0</td>\n",
       "      <td>0.00</td>\n",
       "      <td>normal</td>\n",
       "    </tr>\n",
       "    <tr>\n",
       "      <th>1</th>\n",
       "      <td>0</td>\n",
       "      <td>tcp</td>\n",
       "      <td>private</td>\n",
       "      <td>S0</td>\n",
       "      <td>0</td>\n",
       "      <td>0</td>\n",
       "      <td>0</td>\n",
       "      <td>0</td>\n",
       "      <td>0</td>\n",
       "      <td>0</td>\n",
       "      <td>...</td>\n",
       "      <td>26</td>\n",
       "      <td>0.10</td>\n",
       "      <td>0.05</td>\n",
       "      <td>0.00</td>\n",
       "      <td>0.00</td>\n",
       "      <td>1.00</td>\n",
       "      <td>1.00</td>\n",
       "      <td>0.0</td>\n",
       "      <td>0.00</td>\n",
       "      <td>neptune</td>\n",
       "    </tr>\n",
       "    <tr>\n",
       "      <th>2</th>\n",
       "      <td>0</td>\n",
       "      <td>tcp</td>\n",
       "      <td>http</td>\n",
       "      <td>SF</td>\n",
       "      <td>232</td>\n",
       "      <td>8153</td>\n",
       "      <td>0</td>\n",
       "      <td>0</td>\n",
       "      <td>0</td>\n",
       "      <td>0</td>\n",
       "      <td>...</td>\n",
       "      <td>255</td>\n",
       "      <td>1.00</td>\n",
       "      <td>0.00</td>\n",
       "      <td>0.03</td>\n",
       "      <td>0.04</td>\n",
       "      <td>0.03</td>\n",
       "      <td>0.01</td>\n",
       "      <td>0.0</td>\n",
       "      <td>0.01</td>\n",
       "      <td>normal</td>\n",
       "    </tr>\n",
       "    <tr>\n",
       "      <th>3</th>\n",
       "      <td>0</td>\n",
       "      <td>tcp</td>\n",
       "      <td>http</td>\n",
       "      <td>SF</td>\n",
       "      <td>199</td>\n",
       "      <td>420</td>\n",
       "      <td>0</td>\n",
       "      <td>0</td>\n",
       "      <td>0</td>\n",
       "      <td>0</td>\n",
       "      <td>...</td>\n",
       "      <td>255</td>\n",
       "      <td>1.00</td>\n",
       "      <td>0.00</td>\n",
       "      <td>0.00</td>\n",
       "      <td>0.00</td>\n",
       "      <td>0.00</td>\n",
       "      <td>0.00</td>\n",
       "      <td>0.0</td>\n",
       "      <td>0.00</td>\n",
       "      <td>normal</td>\n",
       "    </tr>\n",
       "    <tr>\n",
       "      <th>4</th>\n",
       "      <td>0</td>\n",
       "      <td>tcp</td>\n",
       "      <td>private</td>\n",
       "      <td>REJ</td>\n",
       "      <td>0</td>\n",
       "      <td>0</td>\n",
       "      <td>0</td>\n",
       "      <td>0</td>\n",
       "      <td>0</td>\n",
       "      <td>0</td>\n",
       "      <td>...</td>\n",
       "      <td>19</td>\n",
       "      <td>0.07</td>\n",
       "      <td>0.07</td>\n",
       "      <td>0.00</td>\n",
       "      <td>0.00</td>\n",
       "      <td>0.00</td>\n",
       "      <td>0.00</td>\n",
       "      <td>1.0</td>\n",
       "      <td>1.00</td>\n",
       "      <td>neptune</td>\n",
       "    </tr>\n",
       "  </tbody>\n",
       "</table>\n",
       "<p>5 rows × 42 columns</p>\n",
       "</div>"
      ],
      "text/plain": [
       "   0  tcp ftp_data   SF  491   0.1  0.2  0.3  0.4  0.5  ...   25  0.17  0.03  \\\n",
       "0  0  udp    other   SF  146     0    0    0    0    0  ...    1  0.00  0.60   \n",
       "1  0  tcp  private   S0    0     0    0    0    0    0  ...   26  0.10  0.05   \n",
       "2  0  tcp     http   SF  232  8153    0    0    0    0  ...  255  1.00  0.00   \n",
       "3  0  tcp     http   SF  199   420    0    0    0    0  ...  255  1.00  0.00   \n",
       "4  0  tcp  private  REJ    0     0    0    0    0    0  ...   19  0.07  0.07   \n",
       "\n",
       "   0.17.1  0.25  0.26  0.27  0.05  0.28   normal  \n",
       "0    0.88  0.00  0.00  0.00   0.0  0.00   normal  \n",
       "1    0.00  0.00  1.00  1.00   0.0  0.00  neptune  \n",
       "2    0.03  0.04  0.03  0.01   0.0  0.01   normal  \n",
       "3    0.00  0.00  0.00  0.00   0.0  0.00   normal  \n",
       "4    0.00  0.00  0.00  0.00   1.0  1.00  neptune  \n",
       "\n",
       "[5 rows x 42 columns]"
      ]
     },
     "execution_count": 3,
     "metadata": {},
     "output_type": "execute_result"
    }
   ],
   "source": [
    "dfTrain.head()"
   ]
  },
  {
   "cell_type": "code",
   "execution_count": 4,
   "id": "be99ec8d",
   "metadata": {},
   "outputs": [
    {
     "data": {
      "text/html": [
       "<div>\n",
       "<style scoped>\n",
       "    .dataframe tbody tr th:only-of-type {\n",
       "        vertical-align: middle;\n",
       "    }\n",
       "\n",
       "    .dataframe tbody tr th {\n",
       "        vertical-align: top;\n",
       "    }\n",
       "\n",
       "    .dataframe thead th {\n",
       "        text-align: right;\n",
       "    }\n",
       "</style>\n",
       "<table border=\"1\" class=\"dataframe\">\n",
       "  <thead>\n",
       "    <tr style=\"text-align: right;\">\n",
       "      <th></th>\n",
       "      <th>0</th>\n",
       "      <th>491</th>\n",
       "      <th>0.1</th>\n",
       "      <th>0.2</th>\n",
       "      <th>0.3</th>\n",
       "      <th>0.4</th>\n",
       "      <th>0.5</th>\n",
       "      <th>0.6</th>\n",
       "      <th>0.7</th>\n",
       "      <th>0.8</th>\n",
       "      <th>...</th>\n",
       "      <th>150</th>\n",
       "      <th>25</th>\n",
       "      <th>0.17</th>\n",
       "      <th>0.03</th>\n",
       "      <th>0.17.1</th>\n",
       "      <th>0.25</th>\n",
       "      <th>0.26</th>\n",
       "      <th>0.27</th>\n",
       "      <th>0.05</th>\n",
       "      <th>0.28</th>\n",
       "    </tr>\n",
       "  </thead>\n",
       "  <tbody>\n",
       "    <tr>\n",
       "      <th>count</th>\n",
       "      <td>125972.000000</td>\n",
       "      <td>1.259720e+05</td>\n",
       "      <td>1.259720e+05</td>\n",
       "      <td>125972.000000</td>\n",
       "      <td>125972.000000</td>\n",
       "      <td>125972.000000</td>\n",
       "      <td>125972.000000</td>\n",
       "      <td>125972.000000</td>\n",
       "      <td>125972.000000</td>\n",
       "      <td>125972.000000</td>\n",
       "      <td>...</td>\n",
       "      <td>125972.000000</td>\n",
       "      <td>125972.000000</td>\n",
       "      <td>125972.000000</td>\n",
       "      <td>125972.000000</td>\n",
       "      <td>125972.000000</td>\n",
       "      <td>125972.000000</td>\n",
       "      <td>125972.000000</td>\n",
       "      <td>125972.000000</td>\n",
       "      <td>125972.000000</td>\n",
       "      <td>125972.000000</td>\n",
       "    </tr>\n",
       "    <tr>\n",
       "      <th>mean</th>\n",
       "      <td>287.146929</td>\n",
       "      <td>4.556710e+04</td>\n",
       "      <td>1.977927e+04</td>\n",
       "      <td>0.000198</td>\n",
       "      <td>0.022688</td>\n",
       "      <td>0.000111</td>\n",
       "      <td>0.204411</td>\n",
       "      <td>0.001222</td>\n",
       "      <td>0.395739</td>\n",
       "      <td>0.279253</td>\n",
       "      <td>...</td>\n",
       "      <td>182.149200</td>\n",
       "      <td>115.653725</td>\n",
       "      <td>0.521244</td>\n",
       "      <td>0.082952</td>\n",
       "      <td>0.148379</td>\n",
       "      <td>0.032543</td>\n",
       "      <td>0.284455</td>\n",
       "      <td>0.278487</td>\n",
       "      <td>0.118832</td>\n",
       "      <td>0.120241</td>\n",
       "    </tr>\n",
       "    <tr>\n",
       "      <th>std</th>\n",
       "      <td>2604.525522</td>\n",
       "      <td>5.870354e+06</td>\n",
       "      <td>4.021285e+06</td>\n",
       "      <td>0.014086</td>\n",
       "      <td>0.253531</td>\n",
       "      <td>0.014366</td>\n",
       "      <td>2.149977</td>\n",
       "      <td>0.045239</td>\n",
       "      <td>0.489011</td>\n",
       "      <td>23.942137</td>\n",
       "      <td>...</td>\n",
       "      <td>99.206565</td>\n",
       "      <td>110.702886</td>\n",
       "      <td>0.448950</td>\n",
       "      <td>0.188922</td>\n",
       "      <td>0.308998</td>\n",
       "      <td>0.112564</td>\n",
       "      <td>0.444785</td>\n",
       "      <td>0.445670</td>\n",
       "      <td>0.306559</td>\n",
       "      <td>0.319460</td>\n",
       "    </tr>\n",
       "    <tr>\n",
       "      <th>min</th>\n",
       "      <td>0.000000</td>\n",
       "      <td>0.000000e+00</td>\n",
       "      <td>0.000000e+00</td>\n",
       "      <td>0.000000</td>\n",
       "      <td>0.000000</td>\n",
       "      <td>0.000000</td>\n",
       "      <td>0.000000</td>\n",
       "      <td>0.000000</td>\n",
       "      <td>0.000000</td>\n",
       "      <td>0.000000</td>\n",
       "      <td>...</td>\n",
       "      <td>0.000000</td>\n",
       "      <td>0.000000</td>\n",
       "      <td>0.000000</td>\n",
       "      <td>0.000000</td>\n",
       "      <td>0.000000</td>\n",
       "      <td>0.000000</td>\n",
       "      <td>0.000000</td>\n",
       "      <td>0.000000</td>\n",
       "      <td>0.000000</td>\n",
       "      <td>0.000000</td>\n",
       "    </tr>\n",
       "    <tr>\n",
       "      <th>25%</th>\n",
       "      <td>0.000000</td>\n",
       "      <td>0.000000e+00</td>\n",
       "      <td>0.000000e+00</td>\n",
       "      <td>0.000000</td>\n",
       "      <td>0.000000</td>\n",
       "      <td>0.000000</td>\n",
       "      <td>0.000000</td>\n",
       "      <td>0.000000</td>\n",
       "      <td>0.000000</td>\n",
       "      <td>0.000000</td>\n",
       "      <td>...</td>\n",
       "      <td>82.000000</td>\n",
       "      <td>10.000000</td>\n",
       "      <td>0.050000</td>\n",
       "      <td>0.000000</td>\n",
       "      <td>0.000000</td>\n",
       "      <td>0.000000</td>\n",
       "      <td>0.000000</td>\n",
       "      <td>0.000000</td>\n",
       "      <td>0.000000</td>\n",
       "      <td>0.000000</td>\n",
       "    </tr>\n",
       "    <tr>\n",
       "      <th>50%</th>\n",
       "      <td>0.000000</td>\n",
       "      <td>4.400000e+01</td>\n",
       "      <td>0.000000e+00</td>\n",
       "      <td>0.000000</td>\n",
       "      <td>0.000000</td>\n",
       "      <td>0.000000</td>\n",
       "      <td>0.000000</td>\n",
       "      <td>0.000000</td>\n",
       "      <td>0.000000</td>\n",
       "      <td>0.000000</td>\n",
       "      <td>...</td>\n",
       "      <td>255.000000</td>\n",
       "      <td>63.000000</td>\n",
       "      <td>0.510000</td>\n",
       "      <td>0.020000</td>\n",
       "      <td>0.000000</td>\n",
       "      <td>0.000000</td>\n",
       "      <td>0.000000</td>\n",
       "      <td>0.000000</td>\n",
       "      <td>0.000000</td>\n",
       "      <td>0.000000</td>\n",
       "    </tr>\n",
       "    <tr>\n",
       "      <th>75%</th>\n",
       "      <td>0.000000</td>\n",
       "      <td>2.760000e+02</td>\n",
       "      <td>5.160000e+02</td>\n",
       "      <td>0.000000</td>\n",
       "      <td>0.000000</td>\n",
       "      <td>0.000000</td>\n",
       "      <td>0.000000</td>\n",
       "      <td>0.000000</td>\n",
       "      <td>1.000000</td>\n",
       "      <td>0.000000</td>\n",
       "      <td>...</td>\n",
       "      <td>255.000000</td>\n",
       "      <td>255.000000</td>\n",
       "      <td>1.000000</td>\n",
       "      <td>0.070000</td>\n",
       "      <td>0.060000</td>\n",
       "      <td>0.020000</td>\n",
       "      <td>1.000000</td>\n",
       "      <td>1.000000</td>\n",
       "      <td>0.000000</td>\n",
       "      <td>0.000000</td>\n",
       "    </tr>\n",
       "    <tr>\n",
       "      <th>max</th>\n",
       "      <td>42908.000000</td>\n",
       "      <td>1.379964e+09</td>\n",
       "      <td>1.309937e+09</td>\n",
       "      <td>1.000000</td>\n",
       "      <td>3.000000</td>\n",
       "      <td>3.000000</td>\n",
       "      <td>77.000000</td>\n",
       "      <td>5.000000</td>\n",
       "      <td>1.000000</td>\n",
       "      <td>7479.000000</td>\n",
       "      <td>...</td>\n",
       "      <td>255.000000</td>\n",
       "      <td>255.000000</td>\n",
       "      <td>1.000000</td>\n",
       "      <td>1.000000</td>\n",
       "      <td>1.000000</td>\n",
       "      <td>1.000000</td>\n",
       "      <td>1.000000</td>\n",
       "      <td>1.000000</td>\n",
       "      <td>1.000000</td>\n",
       "      <td>1.000000</td>\n",
       "    </tr>\n",
       "  </tbody>\n",
       "</table>\n",
       "<p>8 rows × 38 columns</p>\n",
       "</div>"
      ],
      "text/plain": [
       "                   0           491           0.1            0.2  \\\n",
       "count  125972.000000  1.259720e+05  1.259720e+05  125972.000000   \n",
       "mean      287.146929  4.556710e+04  1.977927e+04       0.000198   \n",
       "std      2604.525522  5.870354e+06  4.021285e+06       0.014086   \n",
       "min         0.000000  0.000000e+00  0.000000e+00       0.000000   \n",
       "25%         0.000000  0.000000e+00  0.000000e+00       0.000000   \n",
       "50%         0.000000  4.400000e+01  0.000000e+00       0.000000   \n",
       "75%         0.000000  2.760000e+02  5.160000e+02       0.000000   \n",
       "max     42908.000000  1.379964e+09  1.309937e+09       1.000000   \n",
       "\n",
       "                 0.3            0.4            0.5            0.6  \\\n",
       "count  125972.000000  125972.000000  125972.000000  125972.000000   \n",
       "mean        0.022688       0.000111       0.204411       0.001222   \n",
       "std         0.253531       0.014366       2.149977       0.045239   \n",
       "min         0.000000       0.000000       0.000000       0.000000   \n",
       "25%         0.000000       0.000000       0.000000       0.000000   \n",
       "50%         0.000000       0.000000       0.000000       0.000000   \n",
       "75%         0.000000       0.000000       0.000000       0.000000   \n",
       "max         3.000000       3.000000      77.000000       5.000000   \n",
       "\n",
       "                 0.7            0.8  ...            150             25  \\\n",
       "count  125972.000000  125972.000000  ...  125972.000000  125972.000000   \n",
       "mean        0.395739       0.279253  ...     182.149200     115.653725   \n",
       "std         0.489011      23.942137  ...      99.206565     110.702886   \n",
       "min         0.000000       0.000000  ...       0.000000       0.000000   \n",
       "25%         0.000000       0.000000  ...      82.000000      10.000000   \n",
       "50%         0.000000       0.000000  ...     255.000000      63.000000   \n",
       "75%         1.000000       0.000000  ...     255.000000     255.000000   \n",
       "max         1.000000    7479.000000  ...     255.000000     255.000000   \n",
       "\n",
       "                0.17           0.03         0.17.1           0.25  \\\n",
       "count  125972.000000  125972.000000  125972.000000  125972.000000   \n",
       "mean        0.521244       0.082952       0.148379       0.032543   \n",
       "std         0.448950       0.188922       0.308998       0.112564   \n",
       "min         0.000000       0.000000       0.000000       0.000000   \n",
       "25%         0.050000       0.000000       0.000000       0.000000   \n",
       "50%         0.510000       0.020000       0.000000       0.000000   \n",
       "75%         1.000000       0.070000       0.060000       0.020000   \n",
       "max         1.000000       1.000000       1.000000       1.000000   \n",
       "\n",
       "                0.26           0.27           0.05           0.28  \n",
       "count  125972.000000  125972.000000  125972.000000  125972.000000  \n",
       "mean        0.284455       0.278487       0.118832       0.120241  \n",
       "std         0.444785       0.445670       0.306559       0.319460  \n",
       "min         0.000000       0.000000       0.000000       0.000000  \n",
       "25%         0.000000       0.000000       0.000000       0.000000  \n",
       "50%         0.000000       0.000000       0.000000       0.000000  \n",
       "75%         1.000000       1.000000       0.000000       0.000000  \n",
       "max         1.000000       1.000000       1.000000       1.000000  \n",
       "\n",
       "[8 rows x 38 columns]"
      ]
     },
     "execution_count": 4,
     "metadata": {},
     "output_type": "execute_result"
    }
   ],
   "source": [
    "dfTrain.describe()"
   ]
  },
  {
   "cell_type": "code",
   "execution_count": 5,
   "id": "ea2ef218",
   "metadata": {},
   "outputs": [
    {
     "data": {
      "text/plain": [
       "(125972, 42)"
      ]
     },
     "execution_count": 5,
     "metadata": {},
     "output_type": "execute_result"
    }
   ],
   "source": [
    "dfTrain.shape"
   ]
  },
  {
   "cell_type": "code",
   "execution_count": 6,
   "id": "9bb71f5d",
   "metadata": {},
   "outputs": [
    {
     "data": {
      "text/plain": [
       "0             int64\n",
       "tcp          object\n",
       "ftp_data     object\n",
       "SF           object\n",
       "491           int64\n",
       "0.1           int64\n",
       "0.2           int64\n",
       "0.3           int64\n",
       "0.4           int64\n",
       "0.5           int64\n",
       "0.6           int64\n",
       "0.7           int64\n",
       "0.8           int64\n",
       "0.9           int64\n",
       "0.10          int64\n",
       "0.11          int64\n",
       "0.12          int64\n",
       "0.13          int64\n",
       "0.14          int64\n",
       "0.15          int64\n",
       "0.16          int64\n",
       "0.18          int64\n",
       "2             int64\n",
       "2.1           int64\n",
       "0.19        float64\n",
       "0.20        float64\n",
       "0.21        float64\n",
       "0.22        float64\n",
       "1           float64\n",
       "0.23        float64\n",
       "0.24        float64\n",
       "150           int64\n",
       "25            int64\n",
       "0.17        float64\n",
       "0.03        float64\n",
       "0.17.1      float64\n",
       "0.25        float64\n",
       "0.26        float64\n",
       "0.27        float64\n",
       "0.05        float64\n",
       "0.28        float64\n",
       "normal       object\n",
       "dtype: object"
      ]
     },
     "execution_count": 6,
     "metadata": {},
     "output_type": "execute_result"
    }
   ],
   "source": [
    "#Check types for all the columns using dtypes\n",
    "dfTrain.dtypes"
   ]
  },
  {
   "cell_type": "code",
   "execution_count": 7,
   "id": "05363570",
   "metadata": {},
   "outputs": [
    {
     "name": "stdout",
     "output_type": "stream",
     "text": [
      "<class 'pandas.core.frame.DataFrame'>\n",
      "RangeIndex: 125972 entries, 0 to 125971\n",
      "Data columns (total 42 columns):\n",
      " #   Column    Non-Null Count   Dtype  \n",
      "---  ------    --------------   -----  \n",
      " 0   0         125972 non-null  int64  \n",
      " 1   tcp       125972 non-null  object \n",
      " 2   ftp_data  125972 non-null  object \n",
      " 3   SF        125972 non-null  object \n",
      " 4   491       125972 non-null  int64  \n",
      " 5   0.1       125972 non-null  int64  \n",
      " 6   0.2       125972 non-null  int64  \n",
      " 7   0.3       125972 non-null  int64  \n",
      " 8   0.4       125972 non-null  int64  \n",
      " 9   0.5       125972 non-null  int64  \n",
      " 10  0.6       125972 non-null  int64  \n",
      " 11  0.7       125972 non-null  int64  \n",
      " 12  0.8       125972 non-null  int64  \n",
      " 13  0.9       125972 non-null  int64  \n",
      " 14  0.10      125972 non-null  int64  \n",
      " 15  0.11      125972 non-null  int64  \n",
      " 16  0.12      125972 non-null  int64  \n",
      " 17  0.13      125972 non-null  int64  \n",
      " 18  0.14      125972 non-null  int64  \n",
      " 19  0.15      125972 non-null  int64  \n",
      " 20  0.16      125972 non-null  int64  \n",
      " 21  0.18      125972 non-null  int64  \n",
      " 22  2         125972 non-null  int64  \n",
      " 23  2.1       125972 non-null  int64  \n",
      " 24  0.19      125972 non-null  float64\n",
      " 25  0.20      125972 non-null  float64\n",
      " 26  0.21      125972 non-null  float64\n",
      " 27  0.22      125972 non-null  float64\n",
      " 28  1         125972 non-null  float64\n",
      " 29  0.23      125972 non-null  float64\n",
      " 30  0.24      125972 non-null  float64\n",
      " 31  150       125972 non-null  int64  \n",
      " 32  25        125972 non-null  int64  \n",
      " 33  0.17      125972 non-null  float64\n",
      " 34  0.03      125972 non-null  float64\n",
      " 35  0.17.1    125972 non-null  float64\n",
      " 36  0.25      125972 non-null  float64\n",
      " 37  0.26      125972 non-null  float64\n",
      " 38  0.27      125972 non-null  float64\n",
      " 39  0.05      125972 non-null  float64\n",
      " 40  0.28      125972 non-null  float64\n",
      " 41  normal    125972 non-null  object \n",
      "dtypes: float64(15), int64(23), object(4)\n",
      "memory usage: 40.4+ MB\n"
     ]
    }
   ],
   "source": [
    "dfTrain.info();"
   ]
  },
  {
   "cell_type": "code",
   "execution_count": 8,
   "id": "72f6501d",
   "metadata": {},
   "outputs": [
    {
     "data": {
      "text/html": [
       "<div>\n",
       "<style scoped>\n",
       "    .dataframe tbody tr th:only-of-type {\n",
       "        vertical-align: middle;\n",
       "    }\n",
       "\n",
       "    .dataframe tbody tr th {\n",
       "        vertical-align: top;\n",
       "    }\n",
       "\n",
       "    .dataframe thead th {\n",
       "        text-align: right;\n",
       "    }\n",
       "</style>\n",
       "<table border=\"1\" class=\"dataframe\">\n",
       "  <thead>\n",
       "    <tr style=\"text-align: right;\">\n",
       "      <th></th>\n",
       "      <th>duration</th>\n",
       "      <th>protocol_type</th>\n",
       "      <th>service</th>\n",
       "      <th>flag</th>\n",
       "      <th>src_bytes</th>\n",
       "      <th>dst_bytes</th>\n",
       "      <th>land</th>\n",
       "      <th>wrong_fragment</th>\n",
       "      <th>urgent</th>\n",
       "      <th>hot</th>\n",
       "      <th>...</th>\n",
       "      <th>dst_host_srv_count</th>\n",
       "      <th>dst_host_same_srv_rate</th>\n",
       "      <th>dst_host_diff_srv_rate</th>\n",
       "      <th>dst_host_same_src_port_rate</th>\n",
       "      <th>dst_host_srv_diff_host_rate</th>\n",
       "      <th>dst_host_serror_rate</th>\n",
       "      <th>dst_host_srv_serror_rate</th>\n",
       "      <th>dst_host_rerror_rate</th>\n",
       "      <th>dst_host_srv_rerror_rate</th>\n",
       "      <th>class</th>\n",
       "    </tr>\n",
       "  </thead>\n",
       "  <tbody>\n",
       "    <tr>\n",
       "      <th>0</th>\n",
       "      <td>0</td>\n",
       "      <td>udp</td>\n",
       "      <td>other</td>\n",
       "      <td>SF</td>\n",
       "      <td>146</td>\n",
       "      <td>0</td>\n",
       "      <td>0</td>\n",
       "      <td>0</td>\n",
       "      <td>0</td>\n",
       "      <td>0</td>\n",
       "      <td>...</td>\n",
       "      <td>1</td>\n",
       "      <td>0.00</td>\n",
       "      <td>0.60</td>\n",
       "      <td>0.88</td>\n",
       "      <td>0.00</td>\n",
       "      <td>0.00</td>\n",
       "      <td>0.00</td>\n",
       "      <td>0.0</td>\n",
       "      <td>0.00</td>\n",
       "      <td>normal</td>\n",
       "    </tr>\n",
       "    <tr>\n",
       "      <th>1</th>\n",
       "      <td>0</td>\n",
       "      <td>tcp</td>\n",
       "      <td>private</td>\n",
       "      <td>S0</td>\n",
       "      <td>0</td>\n",
       "      <td>0</td>\n",
       "      <td>0</td>\n",
       "      <td>0</td>\n",
       "      <td>0</td>\n",
       "      <td>0</td>\n",
       "      <td>...</td>\n",
       "      <td>26</td>\n",
       "      <td>0.10</td>\n",
       "      <td>0.05</td>\n",
       "      <td>0.00</td>\n",
       "      <td>0.00</td>\n",
       "      <td>1.00</td>\n",
       "      <td>1.00</td>\n",
       "      <td>0.0</td>\n",
       "      <td>0.00</td>\n",
       "      <td>neptune</td>\n",
       "    </tr>\n",
       "    <tr>\n",
       "      <th>2</th>\n",
       "      <td>0</td>\n",
       "      <td>tcp</td>\n",
       "      <td>http</td>\n",
       "      <td>SF</td>\n",
       "      <td>232</td>\n",
       "      <td>8153</td>\n",
       "      <td>0</td>\n",
       "      <td>0</td>\n",
       "      <td>0</td>\n",
       "      <td>0</td>\n",
       "      <td>...</td>\n",
       "      <td>255</td>\n",
       "      <td>1.00</td>\n",
       "      <td>0.00</td>\n",
       "      <td>0.03</td>\n",
       "      <td>0.04</td>\n",
       "      <td>0.03</td>\n",
       "      <td>0.01</td>\n",
       "      <td>0.0</td>\n",
       "      <td>0.01</td>\n",
       "      <td>normal</td>\n",
       "    </tr>\n",
       "    <tr>\n",
       "      <th>3</th>\n",
       "      <td>0</td>\n",
       "      <td>tcp</td>\n",
       "      <td>http</td>\n",
       "      <td>SF</td>\n",
       "      <td>199</td>\n",
       "      <td>420</td>\n",
       "      <td>0</td>\n",
       "      <td>0</td>\n",
       "      <td>0</td>\n",
       "      <td>0</td>\n",
       "      <td>...</td>\n",
       "      <td>255</td>\n",
       "      <td>1.00</td>\n",
       "      <td>0.00</td>\n",
       "      <td>0.00</td>\n",
       "      <td>0.00</td>\n",
       "      <td>0.00</td>\n",
       "      <td>0.00</td>\n",
       "      <td>0.0</td>\n",
       "      <td>0.00</td>\n",
       "      <td>normal</td>\n",
       "    </tr>\n",
       "    <tr>\n",
       "      <th>4</th>\n",
       "      <td>0</td>\n",
       "      <td>tcp</td>\n",
       "      <td>private</td>\n",
       "      <td>REJ</td>\n",
       "      <td>0</td>\n",
       "      <td>0</td>\n",
       "      <td>0</td>\n",
       "      <td>0</td>\n",
       "      <td>0</td>\n",
       "      <td>0</td>\n",
       "      <td>...</td>\n",
       "      <td>19</td>\n",
       "      <td>0.07</td>\n",
       "      <td>0.07</td>\n",
       "      <td>0.00</td>\n",
       "      <td>0.00</td>\n",
       "      <td>0.00</td>\n",
       "      <td>0.00</td>\n",
       "      <td>1.0</td>\n",
       "      <td>1.00</td>\n",
       "      <td>neptune</td>\n",
       "    </tr>\n",
       "  </tbody>\n",
       "</table>\n",
       "<p>5 rows × 42 columns</p>\n",
       "</div>"
      ],
      "text/plain": [
       "   duration protocol_type  service flag  src_bytes  dst_bytes  land  \\\n",
       "0         0           udp    other   SF        146          0     0   \n",
       "1         0           tcp  private   S0          0          0     0   \n",
       "2         0           tcp     http   SF        232       8153     0   \n",
       "3         0           tcp     http   SF        199        420     0   \n",
       "4         0           tcp  private  REJ          0          0     0   \n",
       "\n",
       "   wrong_fragment  urgent  hot  ...  dst_host_srv_count  \\\n",
       "0               0       0    0  ...                   1   \n",
       "1               0       0    0  ...                  26   \n",
       "2               0       0    0  ...                 255   \n",
       "3               0       0    0  ...                 255   \n",
       "4               0       0    0  ...                  19   \n",
       "\n",
       "   dst_host_same_srv_rate  dst_host_diff_srv_rate  \\\n",
       "0                    0.00                    0.60   \n",
       "1                    0.10                    0.05   \n",
       "2                    1.00                    0.00   \n",
       "3                    1.00                    0.00   \n",
       "4                    0.07                    0.07   \n",
       "\n",
       "   dst_host_same_src_port_rate  dst_host_srv_diff_host_rate  \\\n",
       "0                         0.88                         0.00   \n",
       "1                         0.00                         0.00   \n",
       "2                         0.03                         0.04   \n",
       "3                         0.00                         0.00   \n",
       "4                         0.00                         0.00   \n",
       "\n",
       "   dst_host_serror_rate  dst_host_srv_serror_rate  dst_host_rerror_rate  \\\n",
       "0                  0.00                      0.00                   0.0   \n",
       "1                  1.00                      1.00                   0.0   \n",
       "2                  0.03                      0.01                   0.0   \n",
       "3                  0.00                      0.00                   0.0   \n",
       "4                  0.00                      0.00                   1.0   \n",
       "\n",
       "   dst_host_srv_rerror_rate    class  \n",
       "0                      0.00   normal  \n",
       "1                      0.00  neptune  \n",
       "2                      0.01   normal  \n",
       "3                      0.00   normal  \n",
       "4                      1.00  neptune  \n",
       "\n",
       "[5 rows x 42 columns]"
      ]
     },
     "execution_count": 8,
     "metadata": {},
     "output_type": "execute_result"
    }
   ],
   "source": [
    "# add the column labels\n",
    "columns = (['duration'\n",
    ",'protocol_type'\n",
    ",'service'\n",
    ",'flag'\n",
    ",'src_bytes'\n",
    ",'dst_bytes'\n",
    ",'land'\n",
    ",'wrong_fragment'\n",
    ",'urgent'\n",
    ",'hot'\n",
    ",'num_failed_logins'\n",
    ",'logged_in'\n",
    ",'num_compromised'\n",
    ",'root_shell'\n",
    ",'su_attempted'\n",
    ",'num_root'\n",
    ",'num_file_creations'\n",
    ",'num_shells'\n",
    ",'num_access_files'\n",
    ",'num_outbound_cmds'\n",
    ",'is_host_login'\n",
    ",'is_guest_login'\n",
    ",'count'\n",
    ",'srv_count'\n",
    ",'serror_rate'\n",
    ",'srv_serror_rate'\n",
    ",'rerror_rate'\n",
    ",'srv_rerror_rate'\n",
    ",'same_srv_rate'\n",
    ",'diff_srv_rate'\n",
    ",'srv_diff_host_rate'\n",
    ",'dst_host_count'\n",
    ",'dst_host_srv_count'\n",
    ",'dst_host_same_srv_rate'\n",
    ",'dst_host_diff_srv_rate'\n",
    ",'dst_host_same_src_port_rate'\n",
    ",'dst_host_srv_diff_host_rate'\n",
    ",'dst_host_serror_rate'\n",
    ",'dst_host_srv_serror_rate'\n",
    ",'dst_host_rerror_rate'\n",
    ",'dst_host_srv_rerror_rate'\n",
    ",'class'])\n",
    "\n",
    "dfTrain.columns = columns\n",
    "\n",
    "dfTrain.head()"
   ]
  },
  {
   "cell_type": "code",
   "execution_count": 9,
   "id": "bea36c0a",
   "metadata": {},
   "outputs": [
    {
     "data": {
      "text/plain": [
       "array(['normal', 'neptune', 'warezclient', 'ipsweep', 'portsweep',\n",
       "       'teardrop', 'nmap', 'satan', 'smurf', 'pod', 'back',\n",
       "       'guess_passwd', 'ftp_write', 'multihop', 'rootkit',\n",
       "       'buffer_overflow', 'imap', 'warezmaster', 'phf', 'land',\n",
       "       'loadmodule', 'spy', 'perl'], dtype=object)"
      ]
     },
     "execution_count": 9,
     "metadata": {},
     "output_type": "execute_result"
    }
   ],
   "source": [
    "dfTrain[\"class\"].unique()"
   ]
  },
  {
   "cell_type": "code",
   "execution_count": 10,
   "id": "df9f071c",
   "metadata": {},
   "outputs": [
    {
     "data": {
      "text/html": [
       "<div>\n",
       "<style scoped>\n",
       "    .dataframe tbody tr th:only-of-type {\n",
       "        vertical-align: middle;\n",
       "    }\n",
       "\n",
       "    .dataframe tbody tr th {\n",
       "        vertical-align: top;\n",
       "    }\n",
       "\n",
       "    .dataframe thead th {\n",
       "        text-align: right;\n",
       "    }\n",
       "</style>\n",
       "<table border=\"1\" class=\"dataframe\">\n",
       "  <thead>\n",
       "    <tr style=\"text-align: right;\">\n",
       "      <th></th>\n",
       "      <th>duration</th>\n",
       "      <th>protocol_type</th>\n",
       "      <th>service</th>\n",
       "      <th>flag</th>\n",
       "      <th>src_bytes</th>\n",
       "      <th>dst_bytes</th>\n",
       "      <th>land</th>\n",
       "      <th>wrong_fragment</th>\n",
       "      <th>urgent</th>\n",
       "      <th>hot</th>\n",
       "      <th>...</th>\n",
       "      <th>dst_host_srv_count</th>\n",
       "      <th>dst_host_same_srv_rate</th>\n",
       "      <th>dst_host_diff_srv_rate</th>\n",
       "      <th>dst_host_same_src_port_rate</th>\n",
       "      <th>dst_host_srv_diff_host_rate</th>\n",
       "      <th>dst_host_serror_rate</th>\n",
       "      <th>dst_host_srv_serror_rate</th>\n",
       "      <th>dst_host_rerror_rate</th>\n",
       "      <th>dst_host_srv_rerror_rate</th>\n",
       "      <th>class</th>\n",
       "    </tr>\n",
       "  </thead>\n",
       "  <tbody>\n",
       "    <tr>\n",
       "      <th>0</th>\n",
       "      <td>0</td>\n",
       "      <td>udp</td>\n",
       "      <td>other</td>\n",
       "      <td>SF</td>\n",
       "      <td>146</td>\n",
       "      <td>0</td>\n",
       "      <td>0</td>\n",
       "      <td>0</td>\n",
       "      <td>0</td>\n",
       "      <td>0</td>\n",
       "      <td>...</td>\n",
       "      <td>1</td>\n",
       "      <td>0.00</td>\n",
       "      <td>0.60</td>\n",
       "      <td>0.88</td>\n",
       "      <td>0.00</td>\n",
       "      <td>0.00</td>\n",
       "      <td>0.00</td>\n",
       "      <td>0.0</td>\n",
       "      <td>0.00</td>\n",
       "      <td>0</td>\n",
       "    </tr>\n",
       "    <tr>\n",
       "      <th>1</th>\n",
       "      <td>0</td>\n",
       "      <td>tcp</td>\n",
       "      <td>private</td>\n",
       "      <td>S0</td>\n",
       "      <td>0</td>\n",
       "      <td>0</td>\n",
       "      <td>0</td>\n",
       "      <td>0</td>\n",
       "      <td>0</td>\n",
       "      <td>0</td>\n",
       "      <td>...</td>\n",
       "      <td>26</td>\n",
       "      <td>0.10</td>\n",
       "      <td>0.05</td>\n",
       "      <td>0.00</td>\n",
       "      <td>0.00</td>\n",
       "      <td>1.00</td>\n",
       "      <td>1.00</td>\n",
       "      <td>0.0</td>\n",
       "      <td>0.00</td>\n",
       "      <td>1</td>\n",
       "    </tr>\n",
       "    <tr>\n",
       "      <th>2</th>\n",
       "      <td>0</td>\n",
       "      <td>tcp</td>\n",
       "      <td>http</td>\n",
       "      <td>SF</td>\n",
       "      <td>232</td>\n",
       "      <td>8153</td>\n",
       "      <td>0</td>\n",
       "      <td>0</td>\n",
       "      <td>0</td>\n",
       "      <td>0</td>\n",
       "      <td>...</td>\n",
       "      <td>255</td>\n",
       "      <td>1.00</td>\n",
       "      <td>0.00</td>\n",
       "      <td>0.03</td>\n",
       "      <td>0.04</td>\n",
       "      <td>0.03</td>\n",
       "      <td>0.01</td>\n",
       "      <td>0.0</td>\n",
       "      <td>0.01</td>\n",
       "      <td>0</td>\n",
       "    </tr>\n",
       "    <tr>\n",
       "      <th>3</th>\n",
       "      <td>0</td>\n",
       "      <td>tcp</td>\n",
       "      <td>http</td>\n",
       "      <td>SF</td>\n",
       "      <td>199</td>\n",
       "      <td>420</td>\n",
       "      <td>0</td>\n",
       "      <td>0</td>\n",
       "      <td>0</td>\n",
       "      <td>0</td>\n",
       "      <td>...</td>\n",
       "      <td>255</td>\n",
       "      <td>1.00</td>\n",
       "      <td>0.00</td>\n",
       "      <td>0.00</td>\n",
       "      <td>0.00</td>\n",
       "      <td>0.00</td>\n",
       "      <td>0.00</td>\n",
       "      <td>0.0</td>\n",
       "      <td>0.00</td>\n",
       "      <td>0</td>\n",
       "    </tr>\n",
       "    <tr>\n",
       "      <th>4</th>\n",
       "      <td>0</td>\n",
       "      <td>tcp</td>\n",
       "      <td>private</td>\n",
       "      <td>REJ</td>\n",
       "      <td>0</td>\n",
       "      <td>0</td>\n",
       "      <td>0</td>\n",
       "      <td>0</td>\n",
       "      <td>0</td>\n",
       "      <td>0</td>\n",
       "      <td>...</td>\n",
       "      <td>19</td>\n",
       "      <td>0.07</td>\n",
       "      <td>0.07</td>\n",
       "      <td>0.00</td>\n",
       "      <td>0.00</td>\n",
       "      <td>0.00</td>\n",
       "      <td>0.00</td>\n",
       "      <td>1.0</td>\n",
       "      <td>1.00</td>\n",
       "      <td>1</td>\n",
       "    </tr>\n",
       "  </tbody>\n",
       "</table>\n",
       "<p>5 rows × 42 columns</p>\n",
       "</div>"
      ],
      "text/plain": [
       "   duration protocol_type  service flag  src_bytes  dst_bytes  land  \\\n",
       "0         0           udp    other   SF        146          0     0   \n",
       "1         0           tcp  private   S0          0          0     0   \n",
       "2         0           tcp     http   SF        232       8153     0   \n",
       "3         0           tcp     http   SF        199        420     0   \n",
       "4         0           tcp  private  REJ          0          0     0   \n",
       "\n",
       "   wrong_fragment  urgent  hot  ...  dst_host_srv_count  \\\n",
       "0               0       0    0  ...                   1   \n",
       "1               0       0    0  ...                  26   \n",
       "2               0       0    0  ...                 255   \n",
       "3               0       0    0  ...                 255   \n",
       "4               0       0    0  ...                  19   \n",
       "\n",
       "   dst_host_same_srv_rate  dst_host_diff_srv_rate  \\\n",
       "0                    0.00                    0.60   \n",
       "1                    0.10                    0.05   \n",
       "2                    1.00                    0.00   \n",
       "3                    1.00                    0.00   \n",
       "4                    0.07                    0.07   \n",
       "\n",
       "   dst_host_same_src_port_rate  dst_host_srv_diff_host_rate  \\\n",
       "0                         0.88                         0.00   \n",
       "1                         0.00                         0.00   \n",
       "2                         0.03                         0.04   \n",
       "3                         0.00                         0.00   \n",
       "4                         0.00                         0.00   \n",
       "\n",
       "   dst_host_serror_rate  dst_host_srv_serror_rate  dst_host_rerror_rate  \\\n",
       "0                  0.00                      0.00                   0.0   \n",
       "1                  1.00                      1.00                   0.0   \n",
       "2                  0.03                      0.01                   0.0   \n",
       "3                  0.00                      0.00                   0.0   \n",
       "4                  0.00                      0.00                   1.0   \n",
       "\n",
       "   dst_host_srv_rerror_rate  class  \n",
       "0                      0.00      0  \n",
       "1                      0.00      1  \n",
       "2                      0.01      0  \n",
       "3                      0.00      0  \n",
       "4                      1.00      1  \n",
       "\n",
       "[5 rows x 42 columns]"
      ]
     },
     "execution_count": 10,
     "metadata": {},
     "output_type": "execute_result"
    }
   ],
   "source": [
    "dfTrain['class'] = (dfTrain['class'] != \"normal\") * 1\n",
    "\n",
    "dfTrain.head()"
   ]
  },
  {
   "cell_type": "code",
   "execution_count": 11,
   "id": "61dfb881",
   "metadata": {},
   "outputs": [
    {
     "data": {
      "text/plain": [
       "<AxesSubplot:xlabel='protocol_type', ylabel='count'>"
      ]
     },
     "execution_count": 11,
     "metadata": {},
     "output_type": "execute_result"
    },
    {
     "data": {
      "image/png": "[encoded data removed]",
      "text/plain": [
       "<Figure size 432x288 with 1 Axes>"
      ]
     },
     "metadata": {
      "needs_background": "light"
     },
     "output_type": "display_data"
    }
   ],
   "source": [
    "sns.countplot(x=dfTrain[\"protocol_type\"],palette=\"magma\")"
   ]
  },
  {
   "cell_type": "code",
   "execution_count": 12,
   "id": "f1123481",
   "metadata": {},
   "outputs": [
    {
     "data": {
      "text/plain": [
       "<AxesSubplot:ylabel='class'>"
      ]
     },
     "execution_count": 12,
     "metadata": {},
     "output_type": "execute_result"
    },
    {
     "data": {
      "image/png": "[encoded data removed]",
      "text/plain": [
       "<Figure size 432x288 with 1 Axes>"
      ]
     },
     "metadata": {},
     "output_type": "display_data"
    }
   ],
   "source": [
    "round(dfTrain[\"class\"].value_counts()/dfTrain.shape[0]*100,2).plot.pie(autopct= '%1.1f%%')"
   ]
  },
  {
   "cell_type": "code",
   "execution_count": 13,
   "id": "68f48dc3",
   "metadata": {},
   "outputs": [
    {
     "data": {
      "text/plain": [
       "<AxesSubplot:xlabel='class', ylabel='count'>"
      ]
     },
     "execution_count": 13,
     "metadata": {},
     "output_type": "execute_result"
    },
    {
     "data": {
      "image/png": "[encoded data removed]",
      "text/plain": [
       "<Figure size 432x288 with 1 Axes>"
      ]
     },
     "metadata": {
      "needs_background": "light"
     },
     "output_type": "display_data"
    }
   ],
   "source": [
    "sns.countplot(x=dfTrain[\"class\"],palette=\"husl\")"
   ]
  },
  {
   "cell_type": "code",
   "execution_count": 14,
   "id": "5ec45ebd",
   "metadata": {},
   "outputs": [
    {
     "data": {
      "text/plain": [
       "duration                       0\n",
       "protocol_type                  0\n",
       "service                        0\n",
       "flag                           0\n",
       "src_bytes                      0\n",
       "dst_bytes                      0\n",
       "land                           0\n",
       "wrong_fragment                 0\n",
       "urgent                         0\n",
       "hot                            0\n",
       "num_failed_logins              0\n",
       "logged_in                      0\n",
       "num_compromised                0\n",
       "root_shell                     0\n",
       "su_attempted                   0\n",
       "num_root                       0\n",
       "num_file_creations             0\n",
       "num_shells                     0\n",
       "num_access_files               0\n",
       "num_outbound_cmds              0\n",
       "is_host_login                  0\n",
       "is_guest_login                 0\n",
       "count                          0\n",
       "srv_count                      0\n",
       "serror_rate                    0\n",
       "srv_serror_rate                0\n",
       "rerror_rate                    0\n",
       "srv_rerror_rate                0\n",
       "same_srv_rate                  0\n",
       "diff_srv_rate                  0\n",
       "srv_diff_host_rate             0\n",
       "dst_host_count                 0\n",
       "dst_host_srv_count             0\n",
       "dst_host_same_srv_rate         0\n",
       "dst_host_diff_srv_rate         0\n",
       "dst_host_same_src_port_rate    0\n",
       "dst_host_srv_diff_host_rate    0\n",
       "dst_host_serror_rate           0\n",
       "dst_host_srv_serror_rate       0\n",
       "dst_host_rerror_rate           0\n",
       "dst_host_srv_rerror_rate       0\n",
       "class                          0\n",
       "dtype: int64"
      ]
     },
     "execution_count": 14,
     "metadata": {},
     "output_type": "execute_result"
    }
   ],
   "source": [
    "dfTrain.isnull().sum()"
   ]
  },
  {
   "cell_type": "code",
   "execution_count": 15,
   "id": "3fe1cc3c",
   "metadata": {},
   "outputs": [
    {
     "data": {
      "text/plain": [
       "True"
      ]
     },
     "execution_count": 15,
     "metadata": {},
     "output_type": "execute_result"
    }
   ],
   "source": [
    "dfTrain.duplicated().any()"
   ]
  },
  {
   "cell_type": "code",
   "execution_count": 16,
   "id": "4a3ba5e3",
   "metadata": {},
   "outputs": [],
   "source": [
    "dfTrain.drop_duplicates(keep=False,inplace=True)"
   ]
  },
  {
   "cell_type": "code",
   "execution_count": 17,
   "id": "d7ddc882",
   "metadata": {},
   "outputs": [
    {
     "data": {
      "text/plain": [
       "False"
      ]
     },
     "execution_count": 17,
     "metadata": {},
     "output_type": "execute_result"
    }
   ],
   "source": [
    "dfTrain.duplicated().any()"
   ]
  },
  {
   "cell_type": "code",
   "execution_count": 18,
   "id": "a25a20c4",
   "metadata": {},
   "outputs": [
    {
     "name": "stdout",
     "output_type": "stream",
     "text": [
      "(125955, 42)\n"
     ]
    }
   ],
   "source": [
    "print(dfTrain.shape)"
   ]
  },
  {
   "cell_type": "code",
   "execution_count": 19,
   "id": "2ff43c9e",
   "metadata": {},
   "outputs": [
    {
     "data": {
      "text/plain": [
       "array([[<AxesSubplot:title={'center':'duration'}>,\n",
       "        <AxesSubplot:title={'center':'src_bytes'}>,\n",
       "        <AxesSubplot:title={'center':'dst_bytes'}>,\n",
       "        <AxesSubplot:title={'center':'land'}>,\n",
       "        <AxesSubplot:title={'center':'wrong_fragment'}>,\n",
       "        <AxesSubplot:title={'center':'urgent'}>],\n",
       "       [<AxesSubplot:title={'center':'hot'}>,\n",
       "        <AxesSubplot:title={'center':'num_failed_logins'}>,\n",
       "        <AxesSubplot:title={'center':'logged_in'}>,\n",
       "        <AxesSubplot:title={'center':'num_compromised'}>,\n",
       "        <AxesSubplot:title={'center':'root_shell'}>,\n",
       "        <AxesSubplot:title={'center':'su_attempted'}>],\n",
       "       [<AxesSubplot:title={'center':'num_root'}>,\n",
       "        <AxesSubplot:title={'center':'num_file_creations'}>,\n",
       "        <AxesSubplot:title={'center':'num_shells'}>,\n",
       "        <AxesSubplot:title={'center':'num_access_files'}>,\n",
       "        <AxesSubplot:title={'center':'num_outbound_cmds'}>,\n",
       "        <AxesSubplot:title={'center':'is_host_login'}>],\n",
       "       [<AxesSubplot:title={'center':'is_guest_login'}>,\n",
       "        <AxesSubplot:title={'center':'count'}>,\n",
       "        <AxesSubplot:title={'center':'srv_count'}>,\n",
       "        <AxesSubplot:title={'center':'serror_rate'}>,\n",
       "        <AxesSubplot:title={'center':'srv_serror_rate'}>,\n",
       "        <AxesSubplot:title={'center':'rerror_rate'}>],\n",
       "       [<AxesSubplot:title={'center':'srv_rerror_rate'}>,\n",
       "        <AxesSubplot:title={'center':'same_srv_rate'}>,\n",
       "        <AxesSubplot:title={'center':'diff_srv_rate'}>,\n",
       "        <AxesSubplot:title={'center':'srv_diff_host_rate'}>,\n",
       "        <AxesSubplot:title={'center':'dst_host_count'}>,\n",
       "        <AxesSubplot:title={'center':'dst_host_srv_count'}>],\n",
       "       [<AxesSubplot:title={'center':'dst_host_same_srv_rate'}>,\n",
       "        <AxesSubplot:title={'center':'dst_host_diff_srv_rate'}>,\n",
       "        <AxesSubplot:title={'center':'dst_host_same_src_port_rate'}>,\n",
       "        <AxesSubplot:title={'center':'dst_host_srv_diff_host_rate'}>,\n",
       "        <AxesSubplot:title={'center':'dst_host_serror_rate'}>,\n",
       "        <AxesSubplot:title={'center':'dst_host_srv_serror_rate'}>],\n",
       "       [<AxesSubplot:title={'center':'dst_host_rerror_rate'}>,\n",
       "        <AxesSubplot:title={'center':'dst_host_srv_rerror_rate'}>,\n",
       "        <AxesSubplot:title={'center':'class'}>, <AxesSubplot:>,\n",
       "        <AxesSubplot:>, <AxesSubplot:>]], dtype=object)"
      ]
     },
     "execution_count": 19,
     "metadata": {},
     "output_type": "execute_result"
    },
    {
     "data": {
      "image/png": "[encoded data removed]",
      "text/plain": [
       "<Figure size 2160x2160 with 42 Axes>"
      ]
     },
     "metadata": {
      "needs_background": "light"
     },
     "output_type": "display_data"
    }
   ],
   "source": [
    "# drawing hist plot graphs for all columns\n",
    "dfTrain.hist(bins=30,figsize=[30,30])"
   ]
  },
  {
   "cell_type": "code",
   "execution_count": 20,
   "id": "fa1f4b35",
   "metadata": {},
   "outputs": [],
   "source": [
    "# transforming the datatype (Encoding)\n",
    "dfTrain['protocol_type'] = le.fit_transform(dfTrain['protocol_type'])\n",
    "dfTrain['service'] = le.fit_transform(dfTrain['service'])\n",
    "dfTrain['flag'] = le.fit_transform(dfTrain['flag'])"
   ]
  },
  {
   "cell_type": "code",
   "execution_count": 21,
   "id": "53f701a5",
   "metadata": {},
   "outputs": [
    {
     "name": "stdout",
     "output_type": "stream",
     "text": [
      "1    102688\n",
      "2     14993\n",
      "0      8274\n",
      "Name: protocol_type, dtype: int64\n",
      "24    40338\n",
      "49    21853\n",
      "12     9043\n",
      "54     7313\n",
      "20     6859\n",
      "      ...  \n",
      "61        3\n",
      "27        2\n",
      "3         2\n",
      "22        2\n",
      "25        1\n",
      "Name: service, Length: 70, dtype: int64\n",
      "9     74927\n",
      "5     34851\n",
      "1     11233\n",
      "4      2421\n",
      "2      1562\n",
      "6       365\n",
      "10      271\n",
      "7       127\n",
      "3       103\n",
      "8        49\n",
      "0        46\n",
      "Name: flag, dtype: int64\n"
     ]
    }
   ],
   "source": [
    "# getting all possible values in column by using value_counts() function\n",
    "print(dfTrain[\"protocol_type\"].value_counts())\n",
    "print(dfTrain[\"service\"].value_counts())\n",
    "print(dfTrain[\"flag\"].value_counts())"
   ]
  },
  {
   "cell_type": "code",
   "execution_count": 22,
   "id": "de9fdcde",
   "metadata": {},
   "outputs": [
    {
     "data": {
      "text/plain": [
       "duration                         int64\n",
       "protocol_type                    int32\n",
       "service                          int32\n",
       "flag                             int32\n",
       "src_bytes                        int64\n",
       "dst_bytes                        int64\n",
       "land                             int64\n",
       "wrong_fragment                   int64\n",
       "urgent                           int64\n",
       "hot                              int64\n",
       "num_failed_logins                int64\n",
       "logged_in                        int64\n",
       "num_compromised                  int64\n",
       "root_shell                       int64\n",
       "su_attempted                     int64\n",
       "num_root                         int64\n",
       "num_file_creations               int64\n",
       "num_shells                       int64\n",
       "num_access_files                 int64\n",
       "num_outbound_cmds                int64\n",
       "is_host_login                    int64\n",
       "is_guest_login                   int64\n",
       "count                            int64\n",
       "srv_count                        int64\n",
       "serror_rate                    float64\n",
       "srv_serror_rate                float64\n",
       "rerror_rate                    float64\n",
       "srv_rerror_rate                float64\n",
       "same_srv_rate                  float64\n",
       "diff_srv_rate                  float64\n",
       "srv_diff_host_rate             float64\n",
       "dst_host_count                   int64\n",
       "dst_host_srv_count               int64\n",
       "dst_host_same_srv_rate         float64\n",
       "dst_host_diff_srv_rate         float64\n",
       "dst_host_same_src_port_rate    float64\n",
       "dst_host_srv_diff_host_rate    float64\n",
       "dst_host_serror_rate           float64\n",
       "dst_host_srv_serror_rate       float64\n",
       "dst_host_rerror_rate           float64\n",
       "dst_host_srv_rerror_rate       float64\n",
       "class                            int32\n",
       "dtype: object"
      ]
     },
     "execution_count": 22,
     "metadata": {},
     "output_type": "execute_result"
    }
   ],
   "source": [
    "dfTrain.dtypes"
   ]
  },
  {
   "cell_type": "code",
   "execution_count": 23,
   "id": "f6e78c19",
   "metadata": {},
   "outputs": [
    {
     "data": {
      "image/png": "[encoded data removed]",
      "text/plain": [
       "<Figure size 1800x1440 with 42 Axes>"
      ]
     },
     "metadata": {
      "needs_background": "light"
     },
     "output_type": "display_data"
    }
   ],
   "source": [
    "# drawing a box plots for all columns\n",
    "\n",
    "dfTrain.plot(kind='box', subplots=True, layout=(7,6), figsize=(25,20))\n",
    "plt.show()"
   ]
  },
  {
   "cell_type": "code",
   "execution_count": 24,
   "id": "d9f07564",
   "metadata": {},
   "outputs": [],
   "source": [
    "x = dfTrain.drop(['class'], axis=1)\n",
    "y = dfTrain['class'].copy()\n",
    "\n",
    "x_train, x_test, y_train, y_test = train_test_split(x,y , test_size=0.25, random_state=42)"
   ]
  },
  {
   "cell_type": "code",
   "execution_count": 25,
   "id": "5fccc7d2",
   "metadata": {},
   "outputs": [
    {
     "data": {
      "text/plain": [
       "(94466, 41)"
      ]
     },
     "execution_count": 25,
     "metadata": {},
     "output_type": "execute_result"
    }
   ],
   "source": [
    "x_train.shape"
   ]
  },
  {
   "cell_type": "code",
   "execution_count": 26,
   "id": "71ba0f23",
   "metadata": {},
   "outputs": [
    {
     "data": {
      "text/plain": [
       "(94466,)"
      ]
     },
     "execution_count": 26,
     "metadata": {},
     "output_type": "execute_result"
    }
   ],
   "source": [
    "y_train.shape"
   ]
  },
  {
   "cell_type": "code",
   "execution_count": 27,
   "id": "8c4e5b7f",
   "metadata": {},
   "outputs": [
    {
     "data": {
      "text/plain": [
       "(31489, 41)"
      ]
     },
     "execution_count": 27,
     "metadata": {},
     "output_type": "execute_result"
    }
   ],
   "source": [
    "x_test.shape"
   ]
  },
  {
   "cell_type": "code",
   "execution_count": 28,
   "id": "7e0c6997",
   "metadata": {},
   "outputs": [],
   "source": [
    "x_train = rScaler.fit_transform(x_train)\n",
    "x_test = rScaler.fit_transform(x_test)"
   ]
  },
  {
   "cell_type": "code",
   "execution_count": 29,
   "id": "04f955e5",
   "metadata": {},
   "outputs": [],
   "source": [
    "k1=KNeighborsClassifier(n_neighbors=5)"
   ]
  },
  {
   "cell_type": "code",
   "execution_count": 30,
   "id": "4d616040",
   "metadata": {},
   "outputs": [
    {
     "data": {
      "text/plain": [
       "KNeighborsClassifier()"
      ]
     },
     "execution_count": 30,
     "metadata": {},
     "output_type": "execute_result"
    }
   ],
   "source": [
    "k1.fit(x_train,y_train)"
   ]
  },
  {
   "cell_type": "code",
   "execution_count": 31,
   "id": "5e634dfd",
   "metadata": {},
   "outputs": [
    {
     "data": {
      "text/plain": [
       "0.9941989710583702"
      ]
     },
     "execution_count": 31,
     "metadata": {},
     "output_type": "execute_result"
    }
   ],
   "source": [
    "k1.score(x_train,y_train)"
   ]
  },
  {
   "cell_type": "code",
   "execution_count": 32,
   "id": "9fab3c68",
   "metadata": {},
   "outputs": [
    {
     "data": {
      "text/plain": [
       "0.991933691130236"
      ]
     },
     "execution_count": 32,
     "metadata": {},
     "output_type": "execute_result"
    }
   ],
   "source": [
    "k1.score(x_test,y_test)"
   ]
  },
  {
   "cell_type": "code",
   "execution_count": 33,
   "id": "d658bd30",
   "metadata": {},
   "outputs": [
    {
     "data": {
      "text/html": [
       "<div>\n",
       "<style scoped>\n",
       "    .dataframe tbody tr th:only-of-type {\n",
       "        vertical-align: middle;\n",
       "    }\n",
       "\n",
       "    .dataframe tbody tr th {\n",
       "        vertical-align: top;\n",
       "    }\n",
       "\n",
       "    .dataframe thead th {\n",
       "        text-align: right;\n",
       "    }\n",
       "</style>\n",
       "<table border=\"1\" class=\"dataframe\">\n",
       "  <thead>\n",
       "    <tr style=\"text-align: right;\">\n",
       "      <th></th>\n",
       "      <th>y_Test</th>\n",
       "      <th>y_pred</th>\n",
       "    </tr>\n",
       "  </thead>\n",
       "  <tbody>\n",
       "    <tr>\n",
       "      <th>107031</th>\n",
       "      <td>0</td>\n",
       "      <td>0</td>\n",
       "    </tr>\n",
       "    <tr>\n",
       "      <th>71713</th>\n",
       "      <td>0</td>\n",
       "      <td>0</td>\n",
       "    </tr>\n",
       "    <tr>\n",
       "      <th>30765</th>\n",
       "      <td>1</td>\n",
       "      <td>1</td>\n",
       "    </tr>\n",
       "    <tr>\n",
       "      <th>46897</th>\n",
       "      <td>1</td>\n",
       "      <td>1</td>\n",
       "    </tr>\n",
       "    <tr>\n",
       "      <th>52533</th>\n",
       "      <td>0</td>\n",
       "      <td>0</td>\n",
       "    </tr>\n",
       "    <tr>\n",
       "      <th>79386</th>\n",
       "      <td>1</td>\n",
       "      <td>1</td>\n",
       "    </tr>\n",
       "    <tr>\n",
       "      <th>22929</th>\n",
       "      <td>0</td>\n",
       "      <td>0</td>\n",
       "    </tr>\n",
       "    <tr>\n",
       "      <th>37297</th>\n",
       "      <td>0</td>\n",
       "      <td>0</td>\n",
       "    </tr>\n",
       "    <tr>\n",
       "      <th>5616</th>\n",
       "      <td>0</td>\n",
       "      <td>0</td>\n",
       "    </tr>\n",
       "    <tr>\n",
       "      <th>6331</th>\n",
       "      <td>0</td>\n",
       "      <td>0</td>\n",
       "    </tr>\n",
       "    <tr>\n",
       "      <th>7139</th>\n",
       "      <td>1</td>\n",
       "      <td>1</td>\n",
       "    </tr>\n",
       "    <tr>\n",
       "      <th>119564</th>\n",
       "      <td>1</td>\n",
       "      <td>1</td>\n",
       "    </tr>\n",
       "    <tr>\n",
       "      <th>87598</th>\n",
       "      <td>0</td>\n",
       "      <td>0</td>\n",
       "    </tr>\n",
       "    <tr>\n",
       "      <th>16345</th>\n",
       "      <td>1</td>\n",
       "      <td>1</td>\n",
       "    </tr>\n",
       "    <tr>\n",
       "      <th>98827</th>\n",
       "      <td>0</td>\n",
       "      <td>0</td>\n",
       "    </tr>\n",
       "    <tr>\n",
       "      <th>48364</th>\n",
       "      <td>1</td>\n",
       "      <td>1</td>\n",
       "    </tr>\n",
       "    <tr>\n",
       "      <th>17539</th>\n",
       "      <td>0</td>\n",
       "      <td>0</td>\n",
       "    </tr>\n",
       "    <tr>\n",
       "      <th>83103</th>\n",
       "      <td>1</td>\n",
       "      <td>1</td>\n",
       "    </tr>\n",
       "    <tr>\n",
       "      <th>28572</th>\n",
       "      <td>0</td>\n",
       "      <td>0</td>\n",
       "    </tr>\n",
       "    <tr>\n",
       "      <th>48691</th>\n",
       "      <td>0</td>\n",
       "      <td>0</td>\n",
       "    </tr>\n",
       "  </tbody>\n",
       "</table>\n",
       "</div>"
      ],
      "text/plain": [
       "        y_Test    y_pred  \n",
       "107031         0         0\n",
       "71713          0         0\n",
       "30765          1         1\n",
       "46897          1         1\n",
       "52533          0         0\n",
       "79386          1         1\n",
       "22929          0         0\n",
       "37297          0         0\n",
       "5616           0         0\n",
       "6331           0         0\n",
       "7139           1         1\n",
       "119564         1         1\n",
       "87598          0         0\n",
       "16345          1         1\n",
       "98827          0         0\n",
       "48364          1         1\n",
       "17539          0         0\n",
       "83103          1         1\n",
       "28572          0         0\n",
       "48691          0         0"
      ]
     },
     "execution_count": 33,
     "metadata": {},
     "output_type": "execute_result"
    }
   ],
   "source": [
    "y_pred=k1.predict(x_test)\n",
    "data=pd.DataFrame({'y_Test  ':y_test,'y_pred  ':y_pred})\n",
    "data[:20]"
   ]
  },
  {
   "cell_type": "code",
   "execution_count": 34,
   "id": "256f6de8",
   "metadata": {},
   "outputs": [
    {
     "data": {
      "text/plain": [
       "(<Figure size 432x288 with 1 Axes>,\n",
       " <AxesSubplot:xlabel='predicted label', ylabel='true label'>)"
      ]
     },
     "execution_count": 34,
     "metadata": {},
     "output_type": "execute_result"
    },
    {
     "data": {
      "image/png": "[encoded data removed]",
      "text/plain": [
       "<Figure size 432x288 with 1 Axes>"
      ]
     },
     "metadata": {
      "needs_background": "light"
     },
     "output_type": "display_data"
    }
   ],
   "source": [
    "plot_confusion_matrix(confusion_matrix(y_test, k1.predict(x_test)))"
   ]
  },
  {
   "cell_type": "code",
   "execution_count": 35,
   "id": "6b174190",
   "metadata": {},
   "outputs": [],
   "source": [
    "dt=DecisionTreeClassifier(max_depth=18)"
   ]
  },
  {
   "cell_type": "code",
   "execution_count": 36,
   "id": "6e7c127c",
   "metadata": {},
   "outputs": [
    {
     "data": {
      "text/plain": [
       "DecisionTreeClassifier(max_depth=18)"
      ]
     },
     "execution_count": 36,
     "metadata": {},
     "output_type": "execute_result"
    }
   ],
   "source": [
    "dt.fit(x_train,y_train)"
   ]
  },
  {
   "cell_type": "code",
   "execution_count": 37,
   "id": "086c2cba",
   "metadata": {},
   "outputs": [
    {
     "data": {
      "text/plain": [
       "0.9999576567230538"
      ]
     },
     "execution_count": 37,
     "metadata": {},
     "output_type": "execute_result"
    }
   ],
   "source": [
    "dt.score(x_train,y_train)"
   ]
  },
  {
   "cell_type": "code",
   "execution_count": 38,
   "id": "383edefb",
   "metadata": {},
   "outputs": [
    {
     "data": {
      "text/plain": [
       "0.9761186446060529"
      ]
     },
     "execution_count": 38,
     "metadata": {},
     "output_type": "execute_result"
    }
   ],
   "source": [
    "dt.score(x_test,y_test)"
   ]
  },
  {
   "cell_type": "code",
   "execution_count": 39,
   "id": "8dcd2874",
   "metadata": {},
   "outputs": [],
   "source": [
    "dt.fit(x_train, y_train)\n",
    "y_pred_tree = dt.predict(x_test)"
   ]
  },
  {
   "cell_type": "code",
   "execution_count": 40,
   "id": "c5164135",
   "metadata": {},
   "outputs": [
    {
     "data": {
      "text/plain": [
       "(<Figure size 432x288 with 1 Axes>,\n",
       " <AxesSubplot:xlabel='predicted label', ylabel='true label'>)"
      ]
     },
     "execution_count": 40,
     "metadata": {},
     "output_type": "execute_result"
    },
    {
     "data": {
      "image/png": "[encoded data removed]",
      "text/plain": [
       "<Figure size 432x288 with 1 Axes>"
      ]
     },
     "metadata": {
      "needs_background": "light"
     },
     "output_type": "display_data"
    }
   ],
   "source": [
    "plot_confusion_matrix(confusion_matrix(y_test, dt.predict(x_test)))"
   ]
  },
  {
   "cell_type": "code",
   "execution_count": 41,
   "id": "1261771e",
   "metadata": {},
   "outputs": [],
   "source": [
    "rf=RandomForestClassifier(max_depth=5)"
   ]
  },
  {
   "cell_type": "code",
   "execution_count": 42,
   "id": "68b8db95",
   "metadata": {},
   "outputs": [
    {
     "data": {
      "text/plain": [
       "RandomForestClassifier(max_depth=5)"
      ]
     },
     "execution_count": 42,
     "metadata": {},
     "output_type": "execute_result"
    }
   ],
   "source": [
    "rf.fit(x_train,y_train)"
   ]
  },
  {
   "cell_type": "code",
   "execution_count": 43,
   "id": "11bd114b",
   "metadata": {},
   "outputs": [
    {
     "data": {
      "text/plain": [
       "0.9862913640886668"
      ]
     },
     "execution_count": 43,
     "metadata": {},
     "output_type": "execute_result"
    }
   ],
   "source": [
    "rf.score(x_train,y_train)"
   ]
  },
  {
   "cell_type": "code",
   "execution_count": 44,
   "id": "10d8a7a0",
   "metadata": {},
   "outputs": [
    {
     "data": {
      "text/plain": [
       "0.985010638635714"
      ]
     },
     "execution_count": 44,
     "metadata": {},
     "output_type": "execute_result"
    }
   ],
   "source": [
    "rf.score(x_test,y_test)"
   ]
  },
  {
   "cell_type": "code",
   "execution_count": 45,
   "id": "9adf4629",
   "metadata": {},
   "outputs": [],
   "source": [
    "rfst = RandomForestClassifier(random_state=42, n_estimators=200, max_depth=None, min_samples_leaf=1, min_samples_split=2)\n",
    "rfst.fit(x_train, y_train)\n",
    "y_pred_rfst = rfst.predict(x_test)"
   ]
  },
  {
   "cell_type": "code",
   "execution_count": 46,
   "id": "c6c2c9de",
   "metadata": {},
   "outputs": [
    {
     "data": {
      "text/plain": [
       "(<Figure size 432x288 with 1 Axes>,\n",
       " <AxesSubplot:xlabel='predicted label', ylabel='true label'>)"
      ]
     },
     "execution_count": 46,
     "metadata": {},
     "output_type": "execute_result"
    },
    {
     "data": {
      "image/png": "[encoded data removed]",
      "text/plain": [
       "<Figure size 432x288 with 1 Axes>"
      ]
     },
     "metadata": {
      "needs_background": "light"
     },
     "output_type": "display_data"
    }
   ],
   "source": [
    "plot_confusion_matrix(confusion_matrix(y_test, rfst.predict(x_test)))"
   ]
  },
  {
   "cell_type": "code",
   "execution_count": 47,
   "id": "7179a2c5",
   "metadata": {},
   "outputs": [
    {
     "data": {
      "text/plain": [
       "SVC(C=1, gamma=0.7, kernel='linear')"
      ]
     },
     "execution_count": 47,
     "metadata": {},
     "output_type": "execute_result"
    }
   ],
   "source": [
    "lin = SVC(kernel='linear',C=1,gamma=0.7)\n",
    "lin.fit(x_train[0:10000], y_train[0:10000])"
   ]
  },
  {
   "cell_type": "code",
   "execution_count": 48,
   "id": "f5ae049b",
   "metadata": {},
   "outputs": [
    {
     "name": "stdout",
     "output_type": "stream",
     "text": [
      "              precision    recall  f1-score   support\n",
      "\n",
      "           0       0.94      0.95      0.95     16896\n",
      "           1       0.94      0.93      0.94     14593\n",
      "\n",
      "    accuracy                           0.94     31489\n",
      "   macro avg       0.94      0.94      0.94     31489\n",
      "weighted avg       0.94      0.94      0.94     31489\n",
      "\n"
     ]
    }
   ],
   "source": [
    "y_pred_Linear = lin.predict(x_test)\n",
    "print(classification_report(y_test, y_pred_Linear))"
   ]
  },
  {
   "cell_type": "code",
   "execution_count": 49,
   "id": "53e85adf",
   "metadata": {},
   "outputs": [
    {
     "data": {
      "text/plain": [
       "(<Figure size 432x288 with 1 Axes>,\n",
       " <AxesSubplot:xlabel='predicted label', ylabel='true label'>)"
      ]
     },
     "execution_count": 49,
     "metadata": {},
     "output_type": "execute_result"
    },
    {
     "data": {
      "image/png": "[encoded data removed]",
      "text/plain": [
       "<Figure size 432x288 with 1 Axes>"
      ]
     },
     "metadata": {
      "needs_background": "light"
     },
     "output_type": "display_data"
    }
   ],
   "source": [
    "plot_confusion_matrix(confusion_matrix(y_test, lin.predict(x_test)))"
   ]
  },
  {
   "cell_type": "code",
   "execution_count": 50,
   "id": "bf339e8f",
   "metadata": {},
   "outputs": [
    {
     "name": "stdout",
     "output_type": "stream",
     "text": [
      "f1 score:  0.9361027866763116\n",
      "Recall:  0.9311313643527719\n",
      "precision:  0.9411275799972295\n"
     ]
    }
   ],
   "source": [
    "print(\"f1 score: \", f1_score(y_test,lin.predict(x_test)))\n",
    "print(\"Recall: \", recall_score(y_test,lin.predict(x_test)))\n",
    "print(\"precision: \", precision_score(y_test,lin.predict(x_test)))"
   ]
  },
  {
   "cell_type": "code",
   "execution_count": 51,
   "id": "6162c4af",
   "metadata": {},
   "outputs": [
    {
     "name": "stdout",
     "output_type": "stream",
     "text": [
      "Accuracy    = 0.941\n",
      "Sensitvity  = 0.931\n",
      "Precision   = 0.941\n"
     ]
    }
   ],
   "source": [
    "accuracy = metrics.accuracy_score(y_test,y_pred_Linear)\n",
    "sensitivity = metrics.recall_score(y_test,y_pred_Linear)\n",
    "precision = metrics.precision_score(y_test,y_pred_Linear)\n",
    "print('Accuracy    = {}'.format(np.round(accuracy,3)))\n",
    "print('Sensitvity  = {}'.format(np.round(sensitivity,3)))\n",
    "print('Precision   = {}'.format(np.round(precision,3)))"
   ]
  },
  {
   "cell_type": "code",
   "execution_count": 52,
   "id": "8cfd318b",
   "metadata": {},
   "outputs": [
    {
     "data": {
      "text/html": [
       "<div>\n",
       "<style scoped>\n",
       "    .dataframe tbody tr th:only-of-type {\n",
       "        vertical-align: middle;\n",
       "    }\n",
       "\n",
       "    .dataframe tbody tr th {\n",
       "        vertical-align: top;\n",
       "    }\n",
       "\n",
       "    .dataframe thead th {\n",
       "        text-align: right;\n",
       "    }\n",
       "</style>\n",
       "<table border=\"1\" class=\"dataframe\">\n",
       "  <thead>\n",
       "    <tr style=\"text-align: right;\">\n",
       "      <th></th>\n",
       "      <th>Y_test</th>\n",
       "      <th>Y_pred</th>\n",
       "    </tr>\n",
       "  </thead>\n",
       "  <tbody>\n",
       "    <tr>\n",
       "      <th>107031</th>\n",
       "      <td>0</td>\n",
       "      <td>0</td>\n",
       "    </tr>\n",
       "    <tr>\n",
       "      <th>71713</th>\n",
       "      <td>0</td>\n",
       "      <td>0</td>\n",
       "    </tr>\n",
       "    <tr>\n",
       "      <th>30765</th>\n",
       "      <td>1</td>\n",
       "      <td>1</td>\n",
       "    </tr>\n",
       "    <tr>\n",
       "      <th>46897</th>\n",
       "      <td>1</td>\n",
       "      <td>1</td>\n",
       "    </tr>\n",
       "    <tr>\n",
       "      <th>52533</th>\n",
       "      <td>0</td>\n",
       "      <td>0</td>\n",
       "    </tr>\n",
       "    <tr>\n",
       "      <th>79386</th>\n",
       "      <td>1</td>\n",
       "      <td>1</td>\n",
       "    </tr>\n",
       "    <tr>\n",
       "      <th>22929</th>\n",
       "      <td>0</td>\n",
       "      <td>0</td>\n",
       "    </tr>\n",
       "    <tr>\n",
       "      <th>37297</th>\n",
       "      <td>0</td>\n",
       "      <td>0</td>\n",
       "    </tr>\n",
       "    <tr>\n",
       "      <th>5616</th>\n",
       "      <td>0</td>\n",
       "      <td>0</td>\n",
       "    </tr>\n",
       "    <tr>\n",
       "      <th>6331</th>\n",
       "      <td>0</td>\n",
       "      <td>0</td>\n",
       "    </tr>\n",
       "    <tr>\n",
       "      <th>7139</th>\n",
       "      <td>1</td>\n",
       "      <td>1</td>\n",
       "    </tr>\n",
       "    <tr>\n",
       "      <th>119564</th>\n",
       "      <td>1</td>\n",
       "      <td>1</td>\n",
       "    </tr>\n",
       "    <tr>\n",
       "      <th>87598</th>\n",
       "      <td>0</td>\n",
       "      <td>0</td>\n",
       "    </tr>\n",
       "    <tr>\n",
       "      <th>16345</th>\n",
       "      <td>1</td>\n",
       "      <td>1</td>\n",
       "    </tr>\n",
       "    <tr>\n",
       "      <th>98827</th>\n",
       "      <td>0</td>\n",
       "      <td>0</td>\n",
       "    </tr>\n",
       "    <tr>\n",
       "      <th>48364</th>\n",
       "      <td>1</td>\n",
       "      <td>1</td>\n",
       "    </tr>\n",
       "    <tr>\n",
       "      <th>17539</th>\n",
       "      <td>0</td>\n",
       "      <td>0</td>\n",
       "    </tr>\n",
       "    <tr>\n",
       "      <th>83103</th>\n",
       "      <td>1</td>\n",
       "      <td>1</td>\n",
       "    </tr>\n",
       "    <tr>\n",
       "      <th>28572</th>\n",
       "      <td>0</td>\n",
       "      <td>0</td>\n",
       "    </tr>\n",
       "    <tr>\n",
       "      <th>48691</th>\n",
       "      <td>0</td>\n",
       "      <td>0</td>\n",
       "    </tr>\n",
       "    <tr>\n",
       "      <th>78715</th>\n",
       "      <td>1</td>\n",
       "      <td>1</td>\n",
       "    </tr>\n",
       "    <tr>\n",
       "      <th>121738</th>\n",
       "      <td>1</td>\n",
       "      <td>1</td>\n",
       "    </tr>\n",
       "    <tr>\n",
       "      <th>108516</th>\n",
       "      <td>0</td>\n",
       "      <td>0</td>\n",
       "    </tr>\n",
       "    <tr>\n",
       "      <th>2280</th>\n",
       "      <td>0</td>\n",
       "      <td>0</td>\n",
       "    </tr>\n",
       "    <tr>\n",
       "      <th>88288</th>\n",
       "      <td>0</td>\n",
       "      <td>0</td>\n",
       "    </tr>\n",
       "    <tr>\n",
       "      <th>44481</th>\n",
       "      <td>0</td>\n",
       "      <td>1</td>\n",
       "    </tr>\n",
       "    <tr>\n",
       "      <th>37803</th>\n",
       "      <td>1</td>\n",
       "      <td>1</td>\n",
       "    </tr>\n",
       "    <tr>\n",
       "      <th>41447</th>\n",
       "      <td>1</td>\n",
       "      <td>1</td>\n",
       "    </tr>\n",
       "    <tr>\n",
       "      <th>68231</th>\n",
       "      <td>1</td>\n",
       "      <td>1</td>\n",
       "    </tr>\n",
       "    <tr>\n",
       "      <th>111834</th>\n",
       "      <td>0</td>\n",
       "      <td>0</td>\n",
       "    </tr>\n",
       "  </tbody>\n",
       "</table>\n",
       "</div>"
      ],
      "text/plain": [
       "        Y_test  Y_pred\n",
       "107031       0       0\n",
       "71713        0       0\n",
       "30765        1       1\n",
       "46897        1       1\n",
       "52533        0       0\n",
       "79386        1       1\n",
       "22929        0       0\n",
       "37297        0       0\n",
       "5616         0       0\n",
       "6331         0       0\n",
       "7139         1       1\n",
       "119564       1       1\n",
       "87598        0       0\n",
       "16345        1       1\n",
       "98827        0       0\n",
       "48364        1       1\n",
       "17539        0       0\n",
       "83103        1       1\n",
       "28572        0       0\n",
       "48691        0       0\n",
       "78715        1       1\n",
       "121738       1       1\n",
       "108516       0       0\n",
       "2280         0       0\n",
       "88288        0       0\n",
       "44481        0       1\n",
       "37803        1       1\n",
       "41447        1       1\n",
       "68231        1       1\n",
       "111834       0       0"
      ]
     },
     "execution_count": 52,
     "metadata": {},
     "output_type": "execute_result"
    }
   ],
   "source": [
    "df = pd.DataFrame({\"Y_test\": y_test , \"Y_pred\" : y_pred_Linear})\n",
    "df.head(30)"
   ]
  },
  {
   "cell_type": "code",
   "execution_count": 53,
   "id": "0d206189",
   "metadata": {},
   "outputs": [
    {
     "name": "stdout",
     "output_type": "stream",
     "text": [
      "              precision    recall  f1-score   support\n",
      "\n",
      "           0       0.94      1.00      0.97     16896\n",
      "           1       1.00      0.93      0.96     14593\n",
      "\n",
      "    accuracy                           0.96     31489\n",
      "   macro avg       0.97      0.96      0.96     31489\n",
      "weighted avg       0.97      0.96      0.96     31489\n",
      "\n"
     ]
    }
   ],
   "source": [
    "rbf = SVC(kernel='rbf',C=1,gamma=0.6)\n",
    "rbf.fit(x_train[0:10000], y_train[0:10000])\n",
    "\n",
    "y_pred_RBF = rbf.predict(x_test)\n",
    "print(classification_report(y_test, y_pred_RBF))"
   ]
  },
  {
   "cell_type": "code",
   "execution_count": 54,
   "id": "15fccc07",
   "metadata": {},
   "outputs": [
    {
     "data": {
      "text/plain": [
       "(<Figure size 432x288 with 1 Axes>,\n",
       " <AxesSubplot:xlabel='predicted label', ylabel='true label'>)"
      ]
     },
     "execution_count": 54,
     "metadata": {},
     "output_type": "execute_result"
    },
    {
     "data": {
      "image/png": "[encoded data removed]",
      "text/plain": [
       "<Figure size 432x288 with 1 Axes>"
      ]
     },
     "metadata": {
      "needs_background": "light"
     },
     "output_type": "display_data"
    }
   ],
   "source": [
    "plot_confusion_matrix(confusion_matrix(y_test, rbf.predict(x_test)))"
   ]
  },
  {
   "cell_type": "code",
   "execution_count": 55,
   "id": "7d08e63e",
   "metadata": {},
   "outputs": [
    {
     "name": "stdout",
     "output_type": "stream",
     "text": [
      "f1 score:  0.9607536437966584\n",
      "Recall:  0.925991913931337\n",
      "precision:  0.9982270813326438\n"
     ]
    }
   ],
   "source": [
    "print(\"f1 score: \", f1_score(y_test,rbf.predict(x_test)))\n",
    "print(\"Recall: \", recall_score(y_test,rbf.predict(x_test)))\n",
    "print(\"precision: \", precision_score(y_test,rbf.predict(x_test)))"
   ]
  },
  {
   "cell_type": "code",
   "execution_count": 56,
   "id": "49382b74",
   "metadata": {},
   "outputs": [
    {
     "name": "stdout",
     "output_type": "stream",
     "text": [
      "Accuracy    = 0.965\n",
      "Sensitvity  = 0.926\n",
      "Precision   = 0.998\n"
     ]
    }
   ],
   "source": [
    "accuracy = metrics.accuracy_score(y_test,y_pred_RBF)\n",
    "sensitivity = metrics.recall_score(y_test,y_pred_RBF)\n",
    "precision = metrics.precision_score(y_test,y_pred_RBF)\n",
    "print('Accuracy    = {}'.format(np.round(accuracy,3)))\n",
    "print('Sensitvity  = {}'.format(np.round(sensitivity,3)))\n",
    "print('Precision   = {}'.format(np.round(precision,3)))"
   ]
  },
  {
   "cell_type": "code",
   "execution_count": 57,
   "id": "1d08db70",
   "metadata": {},
   "outputs": [
    {
     "data": {
      "text/html": [
       "<div>\n",
       "<style scoped>\n",
       "    .dataframe tbody tr th:only-of-type {\n",
       "        vertical-align: middle;\n",
       "    }\n",
       "\n",
       "    .dataframe tbody tr th {\n",
       "        vertical-align: top;\n",
       "    }\n",
       "\n",
       "    .dataframe thead th {\n",
       "        text-align: right;\n",
       "    }\n",
       "</style>\n",
       "<table border=\"1\" class=\"dataframe\">\n",
       "  <thead>\n",
       "    <tr style=\"text-align: right;\">\n",
       "      <th></th>\n",
       "      <th>Y_test</th>\n",
       "      <th>Y_pred</th>\n",
       "    </tr>\n",
       "  </thead>\n",
       "  <tbody>\n",
       "    <tr>\n",
       "      <th>107031</th>\n",
       "      <td>0</td>\n",
       "      <td>0</td>\n",
       "    </tr>\n",
       "    <tr>\n",
       "      <th>71713</th>\n",
       "      <td>0</td>\n",
       "      <td>0</td>\n",
       "    </tr>\n",
       "    <tr>\n",
       "      <th>30765</th>\n",
       "      <td>1</td>\n",
       "      <td>1</td>\n",
       "    </tr>\n",
       "    <tr>\n",
       "      <th>46897</th>\n",
       "      <td>1</td>\n",
       "      <td>1</td>\n",
       "    </tr>\n",
       "    <tr>\n",
       "      <th>52533</th>\n",
       "      <td>0</td>\n",
       "      <td>0</td>\n",
       "    </tr>\n",
       "    <tr>\n",
       "      <th>79386</th>\n",
       "      <td>1</td>\n",
       "      <td>1</td>\n",
       "    </tr>\n",
       "    <tr>\n",
       "      <th>22929</th>\n",
       "      <td>0</td>\n",
       "      <td>0</td>\n",
       "    </tr>\n",
       "    <tr>\n",
       "      <th>37297</th>\n",
       "      <td>0</td>\n",
       "      <td>0</td>\n",
       "    </tr>\n",
       "    <tr>\n",
       "      <th>5616</th>\n",
       "      <td>0</td>\n",
       "      <td>0</td>\n",
       "    </tr>\n",
       "    <tr>\n",
       "      <th>6331</th>\n",
       "      <td>0</td>\n",
       "      <td>0</td>\n",
       "    </tr>\n",
       "    <tr>\n",
       "      <th>7139</th>\n",
       "      <td>1</td>\n",
       "      <td>1</td>\n",
       "    </tr>\n",
       "    <tr>\n",
       "      <th>119564</th>\n",
       "      <td>1</td>\n",
       "      <td>1</td>\n",
       "    </tr>\n",
       "    <tr>\n",
       "      <th>87598</th>\n",
       "      <td>0</td>\n",
       "      <td>0</td>\n",
       "    </tr>\n",
       "    <tr>\n",
       "      <th>16345</th>\n",
       "      <td>1</td>\n",
       "      <td>1</td>\n",
       "    </tr>\n",
       "    <tr>\n",
       "      <th>98827</th>\n",
       "      <td>0</td>\n",
       "      <td>0</td>\n",
       "    </tr>\n",
       "    <tr>\n",
       "      <th>48364</th>\n",
       "      <td>1</td>\n",
       "      <td>1</td>\n",
       "    </tr>\n",
       "    <tr>\n",
       "      <th>17539</th>\n",
       "      <td>0</td>\n",
       "      <td>0</td>\n",
       "    </tr>\n",
       "    <tr>\n",
       "      <th>83103</th>\n",
       "      <td>1</td>\n",
       "      <td>1</td>\n",
       "    </tr>\n",
       "    <tr>\n",
       "      <th>28572</th>\n",
       "      <td>0</td>\n",
       "      <td>0</td>\n",
       "    </tr>\n",
       "    <tr>\n",
       "      <th>48691</th>\n",
       "      <td>0</td>\n",
       "      <td>0</td>\n",
       "    </tr>\n",
       "    <tr>\n",
       "      <th>78715</th>\n",
       "      <td>1</td>\n",
       "      <td>1</td>\n",
       "    </tr>\n",
       "    <tr>\n",
       "      <th>121738</th>\n",
       "      <td>1</td>\n",
       "      <td>1</td>\n",
       "    </tr>\n",
       "    <tr>\n",
       "      <th>108516</th>\n",
       "      <td>0</td>\n",
       "      <td>0</td>\n",
       "    </tr>\n",
       "    <tr>\n",
       "      <th>2280</th>\n",
       "      <td>0</td>\n",
       "      <td>0</td>\n",
       "    </tr>\n",
       "    <tr>\n",
       "      <th>88288</th>\n",
       "      <td>0</td>\n",
       "      <td>0</td>\n",
       "    </tr>\n",
       "    <tr>\n",
       "      <th>44481</th>\n",
       "      <td>0</td>\n",
       "      <td>0</td>\n",
       "    </tr>\n",
       "    <tr>\n",
       "      <th>37803</th>\n",
       "      <td>1</td>\n",
       "      <td>1</td>\n",
       "    </tr>\n",
       "    <tr>\n",
       "      <th>41447</th>\n",
       "      <td>1</td>\n",
       "      <td>1</td>\n",
       "    </tr>\n",
       "    <tr>\n",
       "      <th>68231</th>\n",
       "      <td>1</td>\n",
       "      <td>1</td>\n",
       "    </tr>\n",
       "    <tr>\n",
       "      <th>111834</th>\n",
       "      <td>0</td>\n",
       "      <td>0</td>\n",
       "    </tr>\n",
       "  </tbody>\n",
       "</table>\n",
       "</div>"
      ],
      "text/plain": [
       "        Y_test  Y_pred\n",
       "107031       0       0\n",
       "71713        0       0\n",
       "30765        1       1\n",
       "46897        1       1\n",
       "52533        0       0\n",
       "79386        1       1\n",
       "22929        0       0\n",
       "37297        0       0\n",
       "5616         0       0\n",
       "6331         0       0\n",
       "7139         1       1\n",
       "119564       1       1\n",
       "87598        0       0\n",
       "16345        1       1\n",
       "98827        0       0\n",
       "48364        1       1\n",
       "17539        0       0\n",
       "83103        1       1\n",
       "28572        0       0\n",
       "48691        0       0\n",
       "78715        1       1\n",
       "121738       1       1\n",
       "108516       0       0\n",
       "2280         0       0\n",
       "88288        0       0\n",
       "44481        0       0\n",
       "37803        1       1\n",
       "41447        1       1\n",
       "68231        1       1\n",
       "111834       0       0"
      ]
     },
     "execution_count": 57,
     "metadata": {},
     "output_type": "execute_result"
    }
   ],
   "source": [
    "df = pd.DataFrame({\"Y_test\": y_test , \"Y_pred\" : y_pred_RBF})\n",
    "df.head(30)"
   ]
  },
  {
   "cell_type": "code",
   "execution_count": 58,
   "id": "523549a0",
   "metadata": {},
   "outputs": [
    {
     "name": "stdout",
     "output_type": "stream",
     "text": [
      "              precision    recall  f1-score   support\n",
      "\n",
      "           0       0.54      1.00      0.70     16896\n",
      "           1       0.92      0.01      0.03     14593\n",
      "\n",
      "    accuracy                           0.54     31489\n",
      "   macro avg       0.73      0.51      0.36     31489\n",
      "weighted avg       0.72      0.54      0.39     31489\n",
      "\n"
     ]
    }
   ],
   "source": [
    "poly = SVC(kernel='poly',degree=3)\n",
    "poly.fit(x_train[0:10000], y_train[0:10000])\n",
    "\n",
    "y_pred_Poly = poly.predict(x_test)\n",
    "print(classification_report(y_test, y_pred_Poly))"
   ]
  },
  {
   "cell_type": "code",
   "execution_count": 59,
   "id": "d368bdc4",
   "metadata": {},
   "outputs": [
    {
     "data": {
      "text/plain": [
       "(<Figure size 432x288 with 1 Axes>,\n",
       " <AxesSubplot:xlabel='predicted label', ylabel='true label'>)"
      ]
     },
     "execution_count": 59,
     "metadata": {},
     "output_type": "execute_result"
    },
    {
     "data": {
      "image/png": "[encoded data removed]",
      "text/plain": [
       "<Figure size 432x288 with 1 Axes>"
      ]
     },
     "metadata": {
      "needs_background": "light"
     },
     "output_type": "display_data"
    }
   ],
   "source": [
    "plot_confusion_matrix(confusion_matrix(y_test, poly.predict(x_test)))"
   ]
  },
  {
   "cell_type": "code",
   "execution_count": 60,
   "id": "eab7f57c",
   "metadata": {},
   "outputs": [
    {
     "name": "stdout",
     "output_type": "stream",
     "text": [
      "f1 score:  0.025410556193823073\n",
      "Recall:  0.012882889056396903\n",
      "precision:  0.9215686274509803\n"
     ]
    }
   ],
   "source": [
    "print(\"f1 score: \", f1_score(y_test,poly.predict(x_test)))\n",
    "print(\"Recall: \", recall_score(y_test,poly.predict(x_test)))\n",
    "print(\"precision: \", precision_score(y_test,poly.predict(x_test)))"
   ]
  },
  {
   "cell_type": "code",
   "execution_count": 61,
   "id": "9e765889",
   "metadata": {},
   "outputs": [
    {
     "name": "stdout",
     "output_type": "stream",
     "text": [
      "Accuracy    = 0.542\n",
      "Sensitvity  = 0.013\n",
      "Precision   = 0.922\n"
     ]
    }
   ],
   "source": [
    "accuracy = metrics.accuracy_score(y_test,y_pred_Poly)\n",
    "sensitivity = metrics.recall_score(y_test,y_pred_Poly)\n",
    "precision = metrics.precision_score(y_test,y_pred_Poly)\n",
    "print('Accuracy    = {}'.format(np.round(accuracy,3)))\n",
    "print('Sensitvity  = {}'.format(np.round(sensitivity,3)))\n",
    "print('Precision   = {}'.format(np.round(precision,3)))"
   ]
  },
  {
   "cell_type": "code",
   "execution_count": 62,
   "id": "a384f3fa",
   "metadata": {},
   "outputs": [
    {
     "data": {
      "text/html": [
       "<div>\n",
       "<style scoped>\n",
       "    .dataframe tbody tr th:only-of-type {\n",
       "        vertical-align: middle;\n",
       "    }\n",
       "\n",
       "    .dataframe tbody tr th {\n",
       "        vertical-align: top;\n",
       "    }\n",
       "\n",
       "    .dataframe thead th {\n",
       "        text-align: right;\n",
       "    }\n",
       "</style>\n",
       "<table border=\"1\" class=\"dataframe\">\n",
       "  <thead>\n",
       "    <tr style=\"text-align: right;\">\n",
       "      <th></th>\n",
       "      <th>Y_test</th>\n",
       "      <th>Y_pred</th>\n",
       "    </tr>\n",
       "  </thead>\n",
       "  <tbody>\n",
       "    <tr>\n",
       "      <th>107031</th>\n",
       "      <td>0</td>\n",
       "      <td>0</td>\n",
       "    </tr>\n",
       "    <tr>\n",
       "      <th>71713</th>\n",
       "      <td>0</td>\n",
       "      <td>0</td>\n",
       "    </tr>\n",
       "    <tr>\n",
       "      <th>30765</th>\n",
       "      <td>1</td>\n",
       "      <td>0</td>\n",
       "    </tr>\n",
       "    <tr>\n",
       "      <th>46897</th>\n",
       "      <td>1</td>\n",
       "      <td>0</td>\n",
       "    </tr>\n",
       "    <tr>\n",
       "      <th>52533</th>\n",
       "      <td>0</td>\n",
       "      <td>0</td>\n",
       "    </tr>\n",
       "    <tr>\n",
       "      <th>79386</th>\n",
       "      <td>1</td>\n",
       "      <td>0</td>\n",
       "    </tr>\n",
       "    <tr>\n",
       "      <th>22929</th>\n",
       "      <td>0</td>\n",
       "      <td>0</td>\n",
       "    </tr>\n",
       "    <tr>\n",
       "      <th>37297</th>\n",
       "      <td>0</td>\n",
       "      <td>0</td>\n",
       "    </tr>\n",
       "    <tr>\n",
       "      <th>5616</th>\n",
       "      <td>0</td>\n",
       "      <td>0</td>\n",
       "    </tr>\n",
       "    <tr>\n",
       "      <th>6331</th>\n",
       "      <td>0</td>\n",
       "      <td>0</td>\n",
       "    </tr>\n",
       "    <tr>\n",
       "      <th>7139</th>\n",
       "      <td>1</td>\n",
       "      <td>0</td>\n",
       "    </tr>\n",
       "    <tr>\n",
       "      <th>119564</th>\n",
       "      <td>1</td>\n",
       "      <td>0</td>\n",
       "    </tr>\n",
       "    <tr>\n",
       "      <th>87598</th>\n",
       "      <td>0</td>\n",
       "      <td>0</td>\n",
       "    </tr>\n",
       "    <tr>\n",
       "      <th>16345</th>\n",
       "      <td>1</td>\n",
       "      <td>0</td>\n",
       "    </tr>\n",
       "    <tr>\n",
       "      <th>98827</th>\n",
       "      <td>0</td>\n",
       "      <td>0</td>\n",
       "    </tr>\n",
       "    <tr>\n",
       "      <th>48364</th>\n",
       "      <td>1</td>\n",
       "      <td>0</td>\n",
       "    </tr>\n",
       "    <tr>\n",
       "      <th>17539</th>\n",
       "      <td>0</td>\n",
       "      <td>0</td>\n",
       "    </tr>\n",
       "    <tr>\n",
       "      <th>83103</th>\n",
       "      <td>1</td>\n",
       "      <td>0</td>\n",
       "    </tr>\n",
       "    <tr>\n",
       "      <th>28572</th>\n",
       "      <td>0</td>\n",
       "      <td>0</td>\n",
       "    </tr>\n",
       "    <tr>\n",
       "      <th>48691</th>\n",
       "      <td>0</td>\n",
       "      <td>0</td>\n",
       "    </tr>\n",
       "    <tr>\n",
       "      <th>78715</th>\n",
       "      <td>1</td>\n",
       "      <td>0</td>\n",
       "    </tr>\n",
       "    <tr>\n",
       "      <th>121738</th>\n",
       "      <td>1</td>\n",
       "      <td>0</td>\n",
       "    </tr>\n",
       "    <tr>\n",
       "      <th>108516</th>\n",
       "      <td>0</td>\n",
       "      <td>0</td>\n",
       "    </tr>\n",
       "    <tr>\n",
       "      <th>2280</th>\n",
       "      <td>0</td>\n",
       "      <td>0</td>\n",
       "    </tr>\n",
       "    <tr>\n",
       "      <th>88288</th>\n",
       "      <td>0</td>\n",
       "      <td>0</td>\n",
       "    </tr>\n",
       "    <tr>\n",
       "      <th>44481</th>\n",
       "      <td>0</td>\n",
       "      <td>0</td>\n",
       "    </tr>\n",
       "    <tr>\n",
       "      <th>37803</th>\n",
       "      <td>1</td>\n",
       "      <td>0</td>\n",
       "    </tr>\n",
       "    <tr>\n",
       "      <th>41447</th>\n",
       "      <td>1</td>\n",
       "      <td>0</td>\n",
       "    </tr>\n",
       "    <tr>\n",
       "      <th>68231</th>\n",
       "      <td>1</td>\n",
       "      <td>0</td>\n",
       "    </tr>\n",
       "    <tr>\n",
       "      <th>111834</th>\n",
       "      <td>0</td>\n",
       "      <td>0</td>\n",
       "    </tr>\n",
       "  </tbody>\n",
       "</table>\n",
       "</div>"
      ],
      "text/plain": [
       "        Y_test  Y_pred\n",
       "107031       0       0\n",
       "71713        0       0\n",
       "30765        1       0\n",
       "46897        1       0\n",
       "52533        0       0\n",
       "79386        1       0\n",
       "22929        0       0\n",
       "37297        0       0\n",
       "5616         0       0\n",
       "6331         0       0\n",
       "7139         1       0\n",
       "119564       1       0\n",
       "87598        0       0\n",
       "16345        1       0\n",
       "98827        0       0\n",
       "48364        1       0\n",
       "17539        0       0\n",
       "83103        1       0\n",
       "28572        0       0\n",
       "48691        0       0\n",
       "78715        1       0\n",
       "121738       1       0\n",
       "108516       0       0\n",
       "2280         0       0\n",
       "88288        0       0\n",
       "44481        0       0\n",
       "37803        1       0\n",
       "41447        1       0\n",
       "68231        1       0\n",
       "111834       0       0"
      ]
     },
     "execution_count": 62,
     "metadata": {},
     "output_type": "execute_result"
    }
   ],
   "source": [
    "df = pd.DataFrame({\"Y_test\": y_test , \"Y_pred\" : y_pred_Poly})\n",
    "df.head(30)"
   ]
  },
  {
   "cell_type": "code",
   "execution_count": 63,
   "id": "ef6b76e3",
   "metadata": {},
   "outputs": [],
   "source": [
    "GNB = GaussianNB()\n",
    "GNB.fit(x_train,y_train)\n",
    "y_pred_Gauss = GNB.predict(x_test)"
   ]
  },
  {
   "cell_type": "code",
   "execution_count": 64,
   "id": "4a27aa34",
   "metadata": {},
   "outputs": [
    {
     "data": {
      "image/png": "[encoded data removed]",
      "text/plain": [
       "<Figure size 432x288 with 1 Axes>"
      ]
     },
     "metadata": {
      "needs_background": "light"
     },
     "output_type": "display_data"
    }
   ],
   "source": [
    "# Confusion matrix.\n",
    "plot_confusion_matrix(confusion_matrix(y_test, GNB.predict(x_test)))\n",
    "conf_mat = confusion_matrix(y_test, y_pred_Gauss)"
   ]
  },
  {
   "cell_type": "code",
   "execution_count": 65,
   "id": "c95e95e2",
   "metadata": {},
   "outputs": [
    {
     "name": "stdout",
     "output_type": "stream",
     "text": [
      "f1 score:  0.9060453574136624\n",
      "Recall:  0.9007058178578771\n",
      "precision:  0.9114485819291311\n"
     ]
    }
   ],
   "source": [
    "print(\"f1 score: \", f1_score(y_test,GNB.predict(x_test)))\n",
    "print(\"Recall: \", recall_score(y_test,GNB.predict(x_test)))\n",
    "print(\"precision: \", precision_score(y_test,GNB.predict(x_test)))"
   ]
  },
  {
   "cell_type": "code",
   "execution_count": 66,
   "id": "d32a7994",
   "metadata": {},
   "outputs": [
    {
     "name": "stdout",
     "output_type": "stream",
     "text": [
      "Accuracy    = 0.913\n",
      "Sensitvity  = 0.901\n",
      "Precision   = 0.911\n"
     ]
    }
   ],
   "source": [
    "accuracy = metrics.accuracy_score(y_test,y_pred_Gauss)\n",
    "sensitivity = metrics.recall_score(y_test,y_pred_Gauss)\n",
    "precision = metrics.precision_score(y_test,y_pred_Gauss)\n",
    "print('Accuracy    = {}'.format(np.round(accuracy,3)))\n",
    "print('Sensitvity  = {}'.format(np.round(sensitivity,3)))\n",
    "print('Precision   = {}'.format(np.round(precision,3)))"
   ]
  },
  {
   "cell_type": "code",
   "execution_count": 67,
   "id": "4921cca5",
   "metadata": {},
   "outputs": [
    {
     "name": "stdout",
     "output_type": "stream",
     "text": [
      "Epoch 1/500\n",
      "1477/1477 [==============================] - 7s 4ms/step - loss: 0.3750 - accuracy: 0.8386 - val_loss: 0.3351 - val_accuracy: 0.9120\n",
      "Epoch 2/500\n",
      "1477/1477 [==============================] - 5s 3ms/step - loss: 0.1788 - accuracy: 0.9338 - val_loss: 0.2185 - val_accuracy: 0.9129\n",
      "Epoch 3/500\n",
      "1477/1477 [==============================] - 5s 3ms/step - loss: 0.1682 - accuracy: 0.9378 - val_loss: 0.6045 - val_accuracy: 0.9304\n",
      "Epoch 4/500\n",
      "1477/1477 [==============================] - 5s 3ms/step - loss: 0.1585 - accuracy: 0.9410 - val_loss: 0.1621 - val_accuracy: 0.9371\n",
      "Epoch 5/500\n",
      "1477/1477 [==============================] - 6s 4ms/step - loss: 0.1418 - accuracy: 0.9467 - val_loss: 0.2012 - val_accuracy: 0.9387\n",
      "Epoch 6/500\n",
      "1477/1477 [==============================] - 5s 3ms/step - loss: 0.1349 - accuracy: 0.9486 - val_loss: 0.1038 - val_accuracy: 0.9614\n",
      "Epoch 7/500\n",
      "1477/1477 [==============================] - 5s 4ms/step - loss: 0.1320 - accuracy: 0.9496 - val_loss: 0.3601 - val_accuracy: 0.9285\n",
      "Epoch 8/500\n",
      "1477/1477 [==============================] - 5s 4ms/step - loss: 0.1254 - accuracy: 0.9511 - val_loss: 0.1885 - val_accuracy: 0.9439\n",
      "Epoch 9/500\n",
      "1477/1477 [==============================] - 5s 4ms/step - loss: 0.1245 - accuracy: 0.9522 - val_loss: 0.1568 - val_accuracy: 0.9534\n",
      "Epoch 10/500\n",
      "1477/1477 [==============================] - 5s 3ms/step - loss: 0.1172 - accuracy: 0.9552 - val_loss: 0.1820 - val_accuracy: 0.9476\n",
      "Epoch 11/500\n",
      "1477/1477 [==============================] - 5s 4ms/step - loss: 0.1131 - accuracy: 0.9576 - val_loss: 0.1240 - val_accuracy: 0.9603\n",
      "Epoch 12/500\n",
      "1477/1477 [==============================] - 5s 3ms/step - loss: 0.1123 - accuracy: 0.9579 - val_loss: 0.1023 - val_accuracy: 0.9660\n",
      "Epoch 13/500\n",
      "1477/1477 [==============================] - 5s 3ms/step - loss: 0.1131 - accuracy: 0.9581 - val_loss: 0.1547 - val_accuracy: 0.9567\n",
      "Epoch 14/500\n",
      "1477/1477 [==============================] - 6s 4ms/step - loss: 0.1167 - accuracy: 0.9559 - val_loss: 0.1371 - val_accuracy: 0.9610\n",
      "Epoch 15/500\n",
      "1477/1477 [==============================] - 5s 3ms/step - loss: 0.1091 - accuracy: 0.9584 - val_loss: 0.1305 - val_accuracy: 0.9623\n",
      "Epoch 16/500\n",
      "1477/1477 [==============================] - 5s 4ms/step - loss: 0.1107 - accuracy: 0.9592 - val_loss: 0.1094 - val_accuracy: 0.9632\n",
      "Epoch 17/500\n",
      "1477/1477 [==============================] - 7s 5ms/step - loss: 0.1059 - accuracy: 0.9611 - val_loss: 0.0954 - val_accuracy: 0.9666\n",
      "Epoch 18/500\n",
      "1477/1477 [==============================] - 6s 4ms/step - loss: 0.1064 - accuracy: 0.9606 - val_loss: 0.1532 - val_accuracy: 0.9581\n",
      "Epoch 19/500\n",
      "1477/1477 [==============================] - 5s 3ms/step - loss: 0.1023 - accuracy: 0.9624 - val_loss: 0.1172 - val_accuracy: 0.9656\n",
      "Epoch 20/500\n",
      "1477/1477 [==============================] - 6s 4ms/step - loss: 0.1041 - accuracy: 0.9617 - val_loss: 0.1364 - val_accuracy: 0.9611\n",
      "Epoch 21/500\n",
      "1477/1477 [==============================] - 5s 4ms/step - loss: 0.1026 - accuracy: 0.9622 - val_loss: 0.1005 - val_accuracy: 0.9691\n",
      "Epoch 22/500\n",
      "1477/1477 [==============================] - 5s 4ms/step - loss: 0.1001 - accuracy: 0.9636 - val_loss: 0.1730 - val_accuracy: 0.9531\n",
      "Epoch 23/500\n",
      "1477/1477 [==============================] - 6s 4ms/step - loss: 0.0991 - accuracy: 0.9652 - val_loss: 0.1005 - val_accuracy: 0.9697\n",
      "Epoch 24/500\n",
      "1477/1477 [==============================] - 5s 3ms/step - loss: 0.0998 - accuracy: 0.9638 - val_loss: 0.0876 - val_accuracy: 0.9734\n",
      "Epoch 25/500\n",
      "1477/1477 [==============================] - 5s 3ms/step - loss: 0.0941 - accuracy: 0.9660 - val_loss: 0.1245 - val_accuracy: 0.9685\n",
      "Epoch 26/500\n",
      "1477/1477 [==============================] - 5s 4ms/step - loss: 0.0948 - accuracy: 0.9660 - val_loss: 0.1297 - val_accuracy: 0.9670\n",
      "Epoch 27/500\n",
      "1477/1477 [==============================] - 5s 4ms/step - loss: 0.0988 - accuracy: 0.9645 - val_loss: 0.0833 - val_accuracy: 0.9691\n",
      "Epoch 28/500\n",
      "1477/1477 [==============================] - 6s 4ms/step - loss: 0.0952 - accuracy: 0.9646 - val_loss: 0.1146 - val_accuracy: 0.9655\n",
      "Epoch 29/500\n",
      "1477/1477 [==============================] - 6s 4ms/step - loss: 0.0993 - accuracy: 0.9646 - val_loss: 0.1148 - val_accuracy: 0.9625\n",
      "Epoch 30/500\n",
      "1477/1477 [==============================] - 5s 3ms/step - loss: 0.0943 - accuracy: 0.9645 - val_loss: 0.0720 - val_accuracy: 0.9710\n",
      "Epoch 31/500\n",
      "1477/1477 [==============================] - 5s 3ms/step - loss: 0.0908 - accuracy: 0.9665 - val_loss: 0.0808 - val_accuracy: 0.9688\n",
      "Epoch 32/500\n",
      "1477/1477 [==============================] - 5s 4ms/step - loss: 0.0998 - accuracy: 0.9645 - val_loss: 0.1766 - val_accuracy: 0.9519\n",
      "Epoch 33/500\n",
      "1477/1477 [==============================] - 5s 3ms/step - loss: 0.1000 - accuracy: 0.9655 - val_loss: 0.1264 - val_accuracy: 0.9621\n",
      "Epoch 34/500\n",
      "1477/1477 [==============================] - 5s 3ms/step - loss: 0.1002 - accuracy: 0.9638 - val_loss: 0.0831 - val_accuracy: 0.9700\n",
      "Epoch 35/500\n",
      "1477/1477 [==============================] - 5s 4ms/step - loss: 0.0947 - accuracy: 0.9656 - val_loss: 0.0900 - val_accuracy: 0.9726\n",
      "Epoch 36/500\n",
      "1477/1477 [==============================] - 5s 3ms/step - loss: 0.0961 - accuracy: 0.9663 - val_loss: 0.1679 - val_accuracy: 0.9581\n",
      "Epoch 37/500\n",
      "1477/1477 [==============================] - 5s 3ms/step - loss: 0.0936 - accuracy: 0.9662 - val_loss: 0.0965 - val_accuracy: 0.9689\n",
      "Epoch 38/500\n",
      "1477/1477 [==============================] - 5s 4ms/step - loss: 0.0947 - accuracy: 0.9667 - val_loss: 0.1948 - val_accuracy: 0.9691\n",
      "Epoch 39/500\n",
      "1477/1477 [==============================] - 5s 4ms/step - loss: 0.0976 - accuracy: 0.9668 - val_loss: 0.1148 - val_accuracy: 0.9672\n",
      "Epoch 40/500\n",
      "1477/1477 [==============================] - 5s 4ms/step - loss: 0.1004 - accuracy: 0.9668 - val_loss: 0.1059 - val_accuracy: 0.9677\n",
      "Epoch 41/500\n",
      "1477/1477 [==============================] - 6s 4ms/step - loss: 0.0975 - accuracy: 0.9664 - val_loss: 0.1397 - val_accuracy: 0.9646\n",
      "Epoch 42/500\n",
      "1477/1477 [==============================] - 5s 3ms/step - loss: 0.0965 - accuracy: 0.9655 - val_loss: 0.1855 - val_accuracy: 0.9559\n",
      "Epoch 43/500\n",
      "1477/1477 [==============================] - 6s 4ms/step - loss: 0.0939 - accuracy: 0.9668 - val_loss: 0.1359 - val_accuracy: 0.9673\n",
      "Epoch 44/500\n",
      "1477/1477 [==============================] - 6s 4ms/step - loss: 0.0911 - accuracy: 0.9674 - val_loss: 0.1043 - val_accuracy: 0.9690\n",
      "Epoch 45/500\n",
      "1477/1477 [==============================] - 5s 3ms/step - loss: 0.0888 - accuracy: 0.9667 - val_loss: 0.0879 - val_accuracy: 0.9749\n",
      "Epoch 46/500\n",
      "1477/1477 [==============================] - 5s 3ms/step - loss: 0.0947 - accuracy: 0.9668 - val_loss: 0.0817 - val_accuracy: 0.9693\n",
      "Epoch 47/500\n",
      "1477/1477 [==============================] - 6s 4ms/step - loss: 0.0908 - accuracy: 0.9672 - val_loss: 0.1131 - val_accuracy: 0.9678\n",
      "Epoch 48/500\n",
      "1477/1477 [==============================] - 5s 3ms/step - loss: 0.0876 - accuracy: 0.9666 - val_loss: 0.0723 - val_accuracy: 0.9723\n",
      "Epoch 49/500\n",
      "1477/1477 [==============================] - 5s 3ms/step - loss: 0.0892 - accuracy: 0.9666 - val_loss: 0.0660 - val_accuracy: 0.9728\n",
      "Epoch 50/500\n",
      "1477/1477 [==============================] - 6s 4ms/step - loss: 0.0882 - accuracy: 0.9674 - val_loss: 0.0912 - val_accuracy: 0.9703\n",
      "Epoch 51/500\n",
      "1477/1477 [==============================] - 13s 9ms/step - loss: 0.0916 - accuracy: 0.9660 - val_loss: 0.0772 - val_accuracy: 0.9708\n",
      "Epoch 52/500\n",
      "1477/1477 [==============================] - 13s 9ms/step - loss: 0.0881 - accuracy: 0.9662 - val_loss: 0.0814 - val_accuracy: 0.9717\n",
      "Epoch 53/500\n",
      "1477/1477 [==============================] - 8s 5ms/step - loss: 0.0906 - accuracy: 0.9675 - val_loss: 0.0852 - val_accuracy: 0.9715\n",
      "Epoch 54/500\n",
      "1477/1477 [==============================] - 5s 4ms/step - loss: 0.0916 - accuracy: 0.9662 - val_loss: 0.1115 - val_accuracy: 0.9694\n",
      "Epoch 55/500\n",
      "1477/1477 [==============================] - 5s 4ms/step - loss: 0.0918 - accuracy: 0.9663 - val_loss: 0.1298 - val_accuracy: 0.9675\n",
      "Epoch 56/500\n",
      "1477/1477 [==============================] - 5s 4ms/step - loss: 0.0885 - accuracy: 0.9670 - val_loss: 0.1167 - val_accuracy: 0.9698\n",
      "Epoch 57/500\n"
     ]
    },
    {
     "name": "stdout",
     "output_type": "stream",
     "text": [
      "1477/1477 [==============================] - 5s 3ms/step - loss: 0.0907 - accuracy: 0.9656 - val_loss: 0.1471 - val_accuracy: 0.9632\n",
      "Epoch 58/500\n",
      "1477/1477 [==============================] - 5s 3ms/step - loss: 0.0916 - accuracy: 0.9658 - val_loss: 0.1635 - val_accuracy: 0.9679\n",
      "Epoch 59/500\n",
      "1477/1477 [==============================] - 5s 4ms/step - loss: 0.0851 - accuracy: 0.9679 - val_loss: 0.1331 - val_accuracy: 0.9676\n",
      "Epoch 60/500\n",
      "1477/1477 [==============================] - 5s 3ms/step - loss: 0.0883 - accuracy: 0.9684 - val_loss: 0.1516 - val_accuracy: 0.9661\n",
      "Epoch 61/500\n",
      "1477/1477 [==============================] - 5s 3ms/step - loss: 0.0906 - accuracy: 0.9663 - val_loss: 0.1456 - val_accuracy: 0.9623\n",
      "Epoch 62/500\n",
      "1477/1477 [==============================] - 5s 4ms/step - loss: 0.0916 - accuracy: 0.9677 - val_loss: 0.1517 - val_accuracy: 0.9671\n",
      "Epoch 63/500\n",
      "1477/1477 [==============================] - 5s 3ms/step - loss: 0.0884 - accuracy: 0.9681 - val_loss: 0.1168 - val_accuracy: 0.9692\n",
      "Epoch 64/500\n",
      "1477/1477 [==============================] - 5s 4ms/step - loss: 0.0910 - accuracy: 0.9666 - val_loss: 0.1531 - val_accuracy: 0.9537\n",
      "Epoch 65/500\n",
      "1477/1477 [==============================] - 6s 4ms/step - loss: 0.0932 - accuracy: 0.9670 - val_loss: 0.1329 - val_accuracy: 0.9595\n",
      "Epoch 66/500\n",
      "1477/1477 [==============================] - 6s 4ms/step - loss: 0.0930 - accuracy: 0.9661 - val_loss: 0.1304 - val_accuracy: 0.9623\n",
      "Epoch 67/500\n",
      "1477/1477 [==============================] - 6s 4ms/step - loss: 0.0905 - accuracy: 0.9666 - val_loss: 0.1422 - val_accuracy: 0.9677\n",
      "Epoch 68/500\n",
      "1477/1477 [==============================] - 6s 4ms/step - loss: 0.0893 - accuracy: 0.9674 - val_loss: 0.1082 - val_accuracy: 0.9699\n",
      "Epoch 69/500\n",
      "1477/1477 [==============================] - 6s 4ms/step - loss: 0.0887 - accuracy: 0.9676 - val_loss: 0.0920 - val_accuracy: 0.9702\n",
      "Epoch 70/500\n",
      "1477/1477 [==============================] - 5s 4ms/step - loss: 0.0887 - accuracy: 0.9676 - val_loss: 0.0735 - val_accuracy: 0.9712\n",
      "Epoch 71/500\n",
      "1477/1477 [==============================] - 5s 4ms/step - loss: 0.0870 - accuracy: 0.9685 - val_loss: 0.1122 - val_accuracy: 0.9697\n",
      "Epoch 72/500\n",
      "1477/1477 [==============================] - 5s 3ms/step - loss: 0.0843 - accuracy: 0.9681 - val_loss: 0.0963 - val_accuracy: 0.9732\n",
      "Epoch 73/500\n",
      "1477/1477 [==============================] - 6s 4ms/step - loss: 0.0897 - accuracy: 0.9679 - val_loss: 0.1035 - val_accuracy: 0.9686\n",
      "Epoch 74/500\n",
      "1477/1477 [==============================] - 5s 3ms/step - loss: 0.0927 - accuracy: 0.9667 - val_loss: 0.0710 - val_accuracy: 0.9702\n",
      "Epoch 75/500\n",
      "1477/1477 [==============================] - 5s 3ms/step - loss: 0.0869 - accuracy: 0.9666 - val_loss: 0.0779 - val_accuracy: 0.9710\n",
      "Epoch 76/500\n",
      "1477/1477 [==============================] - 5s 4ms/step - loss: 0.0929 - accuracy: 0.9673 - val_loss: 0.1353 - val_accuracy: 0.9678\n",
      "Epoch 77/500\n",
      "1477/1477 [==============================] - 5s 4ms/step - loss: 0.0922 - accuracy: 0.9681 - val_loss: 0.1515 - val_accuracy: 0.9639\n",
      "Epoch 78/500\n",
      "1477/1477 [==============================] - 6s 4ms/step - loss: 0.0918 - accuracy: 0.9680 - val_loss: 0.1024 - val_accuracy: 0.9701\n",
      "Epoch 79/500\n",
      "1477/1477 [==============================] - 7s 4ms/step - loss: 0.0900 - accuracy: 0.9683 - val_loss: 0.1451 - val_accuracy: 0.9639\n",
      "Epoch 79: early stopping\n"
     ]
    }
   ],
   "source": [
    "annModel =Sequential()\n",
    "annModel.add(Dense(units = 20,activation = 'relu'))\n",
    "annModel.add(BatchNormalization())\n",
    "annModel.add(Dropout(0.5))\n",
    "annModel.add(Dense(units = 20,activation = 'relu'))\n",
    "annModel.add(BatchNormalization())\n",
    "annModel.add(Dropout(0.5))\n",
    "annModel.add(Dense(units = 20,activation = 'relu'))\n",
    "annModel.add(BatchNormalization())\n",
    "annModel.add(Dropout(0.5))\n",
    "annModel.add(Dense(units = 1,activation = 'sigmoid'))\n",
    "annModel.compile(optimizer = 'adam', loss = 'binary_crossentropy', metrics = ['accuracy'])\n",
    "earlyStop = EarlyStopping(monitor='val_loss', mode='min', verbose=1, patience=30 )\n",
    "model=annModel.fit(x_train, y_train,batch_size = 64,\n",
    "                   validation_data=(x_test, y_test),\n",
    "                   epochs =500,\n",
    "                   callbacks = [earlyStop])"
   ]
  },
  {
   "cell_type": "code",
   "execution_count": 68,
   "id": "27ba4421",
   "metadata": {},
   "outputs": [
    {
     "name": "stdout",
     "output_type": "stream",
     "text": [
      "985/985 [==============================] - 3s 3ms/step\n"
     ]
    }
   ],
   "source": [
    "y_pred_ann = annModel.predict(x_test)\n",
    "y_pred_ann = (y_pred_ann>0.5)"
   ]
  },
  {
   "cell_type": "code",
   "execution_count": 69,
   "id": "45043883",
   "metadata": {},
   "outputs": [
    {
     "name": "stdout",
     "output_type": "stream",
     "text": [
      "Accuracy    = 0.964\n",
      "Sensitvity  = 0.924\n",
      "Precision   = 0.998\n"
     ]
    }
   ],
   "source": [
    "accuracy = metrics.accuracy_score(y_test,y_pred_ann)\n",
    "sensitivity = metrics.recall_score(y_test,y_pred_ann)\n",
    "precision = metrics.precision_score(y_test,y_pred_ann)\n",
    "print('Accuracy    = {}'.format(np.round(accuracy,3)))\n",
    "print('Sensitvity  = {}'.format(np.round(sensitivity,3)))\n",
    "print('Precision   = {}'.format(np.round(precision,3)))"
   ]
  },
  {
   "cell_type": "code",
   "execution_count": null,
   "id": "c485b1dc",
   "metadata": {},
   "outputs": [],
   "source": []
  },
  {
   "cell_type": "code",
   "execution_count": null,
   "id": "1e25689c",
   "metadata": {},
   "outputs": [],
   "source": []
  },
  {
   "cell_type": "code",
   "execution_count": null,
   "id": "ceddb873",
   "metadata": {},
   "outputs": [],
   "source": []
  }
 ],
 "metadata": {
  "kernelspec": {
   "display_name": "Python 3 (ipykernel)",
   "language": "python",
   "name": "python3"
  },
  "language_info": {
   "codemirror_mode": {
    "name": "ipython",
    "version": 3
   },
   "file_extension": ".py",
   "mimetype": "text/x-python",
   "name": "python",
   "nbconvert_exporter": "python",
   "pygments_lexer": "ipython3",
   "version": "3.9.12"
  }
 },
 "nbformat": 4,
 "nbformat_minor": 5
}
